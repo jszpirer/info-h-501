{
 "cells": [
  {
   "cell_type": "markdown",
   "metadata": {},
   "source": [
    "# Machine Learning 1 - Nearest Neighbors and Decision Trees\n",
    "\n",
    "## Lab objectives\n",
    "\n",
    "* Classification with decision trees and random forests.\n",
    "* Cross-validation and evaluation."
   ]
  },
  {
   "cell_type": "code",
   "execution_count": 3,
   "metadata": {},
   "outputs": [
    {
     "name": "stdout",
     "output_type": "stream",
     "text": [
      "Pre-loading training data\n",
      "Pre-loading test data\n"
     ]
    }
   ],
   "source": [
    "from lab_tools import CIFAR10, get_hog_image\n",
    "\n",
    "dataset = CIFAR10('./CIFAR10/')"
   ]
  },
  {
   "cell_type": "markdown",
   "metadata": {},
   "source": [
    "# 1. Nearest Neighbor\n",
    "\n",
    "The following example uses the Nearest Neighbor algorithm on the Histogram of Gradient decriptors in the dataset."
   ]
  },
  {
   "cell_type": "code",
   "execution_count": 4,
   "metadata": {},
   "outputs": [
    {
     "data": {
      "text/plain": [
       "KNeighborsClassifier(n_neighbors=1)"
      ]
     },
     "execution_count": 4,
     "metadata": {},
     "output_type": "execute_result"
    }
   ],
   "source": [
    "from sklearn.neighbors import KNeighborsClassifier\n",
    "\n",
    "clf = KNeighborsClassifier(n_neighbors=1)\n",
    "clf.fit( dataset.train['hog'], dataset.train['labels'] )"
   ]
  },
  {
   "cell_type": "markdown",
   "metadata": {},
   "source": [
    "* What is the **descriptive performance** of this classifier ?\n",
    "* Modify the code to estimate the **predictive performance**.\n",
    "* Use cross-validation to find the best hyper-parameters for this method."
   ]
  },
  {
   "cell_type": "code",
   "execution_count": 12,
   "metadata": {},
   "outputs": [],
   "source": [
    "from sklearn.metrics import accuracy_score\n",
    "from sklearn.metrics import confusion_matrix"
   ]
  },
  {
   "cell_type": "code",
   "execution_count": 4,
   "metadata": {},
   "outputs": [
    {
     "name": "stdout",
     "output_type": "stream",
     "text": [
      "Descriptive score 1.0\n",
      "[[5000    0    0]\n",
      " [   0 5000    0]\n",
      " [   0    0 5000]]\n"
     ]
    }
   ],
   "source": [
    "pred = clf.predict(dataset.train['hog'])\n",
    "score = accuracy_score(dataset.train['labels'], pred)\n",
    "print(\"Descriptive score\", score)\n",
    "cm = confusion_matrix(dataset.train['labels'], pred)\n",
    "print(cm)"
   ]
  },
  {
   "cell_type": "code",
   "execution_count": 5,
   "metadata": {},
   "outputs": [
    {
     "name": "stdout",
     "output_type": "stream",
     "text": [
      "Predictive score 0.694\n",
      "[[609 258 133]\n",
      " [ 63 754 183]\n",
      " [ 26 255 719]]\n"
     ]
    }
   ],
   "source": [
    "pred = clf.predict(dataset.test['hog'])\n",
    "score = accuracy_score(dataset.test['labels'], pred)\n",
    "print(\"Predictive score\", score)\n",
    "cm = confusion_matrix(dataset.test['labels'], pred)\n",
    "print(cm)"
   ]
  },
  {
   "cell_type": "markdown",
   "metadata": {},
   "source": [
    "Les différents hyperparameters sont les suivants :"
   ]
  },
  {
   "cell_type": "code",
   "execution_count": 6,
   "metadata": {},
   "outputs": [],
   "source": [
    "n_neighbors = [1, 2, 3]\n",
    "weights = ['uniform', 'distance']\n",
    "p = [1, 2]"
   ]
  },
  {
   "cell_type": "code",
   "execution_count": 7,
   "metadata": {},
   "outputs": [],
   "source": [
    "from sklearn.model_selection import cross_val_score\n",
    "import numpy as np"
   ]
  },
  {
   "cell_type": "code",
   "execution_count": 8,
   "metadata": {},
   "outputs": [
    {
     "name": "stdout",
     "output_type": "stream",
     "text": [
      "Number of neighbors  1\n",
      "Weights  uniform\n",
      "Power  1\n",
      "La moyenne est  0.7456\n",
      "Power  2\n",
      "La moyenne est  0.6878\n",
      "Weights  distance\n",
      "Power  1\n",
      "La moyenne est  0.7456\n",
      "Power  2\n",
      "La moyenne est  0.6878\n",
      "Number of neighbors  2\n",
      "Weights  uniform\n",
      "Power  1\n",
      "La moyenne est  0.7438\n",
      "Power  2\n",
      "La moyenne est  0.6868666666666667\n",
      "Weights  distance\n",
      "Power  1\n",
      "La moyenne est  0.7456\n",
      "Power  2\n",
      "La moyenne est  0.6878\n",
      "Number of neighbors  3\n",
      "Weights  uniform\n",
      "Power  1\n",
      "La moyenne est  0.7695333333333333\n",
      "Power  2\n",
      "La moyenne est  0.7060666666666666\n",
      "Weights  distance\n",
      "Power  1\n",
      "La moyenne est  0.7635333333333333\n",
      "Power  2\n",
      "La moyenne est  0.6988\n"
     ]
    }
   ],
   "source": [
    "for n in n_neighbors:\n",
    "    print(\"Number of neighbors \", n)\n",
    "    for w in weights:\n",
    "        print(\"Weights \", w)\n",
    "        for power in p:\n",
    "            print(\"Power \", power)\n",
    "            clf = KNeighborsClassifier(n_neighbors=n, weights=w, p=power)\n",
    "            scores = cross_val_score(clf,dataset.train['hog'],dataset.train['labels'])\n",
    "            mean = np.mean(scores)\n",
    "            print(\"La moyenne est \", mean)"
   ]
  },
  {
   "cell_type": "markdown",
   "metadata": {},
   "source": [
    "Plus le nombre de neighbors est grand, meilleure est l'accuracy. Power = 1 donne systématiquement des meilleurs résultats que power = 2.\n",
    "Pour neighbors = 3, weight = 'distance' était mieux."
   ]
  },
  {
   "cell_type": "code",
   "execution_count": 9,
   "metadata": {},
   "outputs": [
    {
     "name": "stdout",
     "output_type": "stream",
     "text": [
      "Number of neighbors  3\n",
      "Weights  uniform\n",
      "Leaf size  20\n",
      "La moyenne est  0.7060666666666666\n",
      "Leaf size  30\n",
      "La moyenne est  0.7060666666666666\n",
      "Leaf size  40\n",
      "La moyenne est  0.7060666666666666\n",
      "Weights  distance\n",
      "Leaf size  20\n",
      "La moyenne est  0.6988\n",
      "Leaf size  30\n",
      "La moyenne est  0.6988\n",
      "Leaf size  40\n",
      "La moyenne est  0.6988\n",
      "Number of neighbors  4\n",
      "Weights  uniform\n",
      "Leaf size  20\n",
      "La moyenne est  0.7002\n",
      "Leaf size  30\n",
      "La moyenne est  0.7002\n",
      "Leaf size  40\n",
      "La moyenne est  0.7002\n",
      "Weights  distance\n",
      "Leaf size  20\n",
      "La moyenne est  0.7051999999999999\n",
      "Leaf size  30\n",
      "La moyenne est  0.7051999999999999\n",
      "Leaf size  40\n",
      "La moyenne est  0.7051999999999999\n",
      "Number of neighbors  5\n",
      "Weights  uniform\n",
      "Leaf size  20\n",
      "La moyenne est  0.7097333333333333\n",
      "Leaf size  30\n",
      "La moyenne est  0.7097333333333333\n",
      "Leaf size  40\n",
      "La moyenne est  0.7097333333333333\n",
      "Weights  distance\n",
      "Leaf size  20\n",
      "La moyenne est  0.7029333333333333\n",
      "Leaf size  30\n",
      "La moyenne est  0.7029333333333333\n",
      "Leaf size  40\n",
      "La moyenne est  0.7029333333333333\n"
     ]
    }
   ],
   "source": [
    "n_neighbors = [3, 4, 5]\n",
    "leaf_size = [20, 30, 40]\n",
    "for n in n_neighbors:\n",
    "    print(\"Number of neighbors \", n)\n",
    "    for w in weights:\n",
    "        print(\"Weights \", w)\n",
    "        for leaf in leaf_size:\n",
    "            print(\"Leaf size \", leaf)\n",
    "            clf = KNeighborsClassifier(n_neighbors=n, weights=w, leaf_size=leaf)\n",
    "            scores = cross_val_score(clf,dataset.train['hog'],dataset.train['labels'])\n",
    "            mean = np.mean(scores)\n",
    "            print(\"La moyenne est \", mean)"
   ]
  },
  {
   "cell_type": "code",
   "execution_count": 17,
   "metadata": {},
   "outputs": [
    {
     "name": "stdout",
     "output_type": "stream",
     "text": [
      "Number of neighbors  3\n",
      "Leaf size  30\n",
      "La moyenne est  0.7695333333333333\n",
      "Leaf size  50\n",
      "La moyenne est  0.7695333333333333\n",
      "Number of neighbors  4\n",
      "Leaf size  30\n",
      "La moyenne est  0.7636\n",
      "Leaf size  50\n",
      "La moyenne est  0.7636\n",
      "Number of neighbors  5\n",
      "Leaf size  30\n",
      "La moyenne est  0.7752666666666668\n",
      "Leaf size  50\n",
      "La moyenne est  0.7752666666666668\n"
     ]
    }
   ],
   "source": [
    "n_neighbors = [3, 4, 5]\n",
    "leaf_size = [30, 50]\n",
    "for n in n_neighbors:\n",
    "    print(\"Number of neighbors \", n)\n",
    "    for leaf in leaf_size:\n",
    "        print(\"Leaf size \", leaf)\n",
    "        clf = KNeighborsClassifier(n_neighbors=n, weights='uniform', leaf_size=leaf, p=1)\n",
    "        scores = cross_val_score(clf,dataset.train['hog'],dataset.train['labels'])\n",
    "        mean = np.mean(scores)\n",
    "        print(\"La moyenne est \", mean)"
   ]
  },
  {
   "cell_type": "code",
   "execution_count": 18,
   "metadata": {},
   "outputs": [
    {
     "name": "stdout",
     "output_type": "stream",
     "text": [
      "Number of neighbors  5\n",
      "La moyenne est  0.7752666666666668\n",
      "Number of neighbors  6\n",
      "La moyenne est  0.7689333333333332\n",
      "Number of neighbors  7\n",
      "La moyenne est  0.7693333333333333\n"
     ]
    }
   ],
   "source": [
    "n_neighbors = [5, 6, 7]\n",
    "for n in n_neighbors:\n",
    "    print(\"Number of neighbors \", n)\n",
    "    clf = KNeighborsClassifier(n_neighbors=n, p=1)\n",
    "    scores = cross_val_score(clf,dataset.train['hog'],dataset.train['labels'])\n",
    "    mean = np.mean(scores)\n",
    "    print(\"La moyenne est \", mean)"
   ]
  },
  {
   "cell_type": "code",
   "execution_count": 19,
   "metadata": {},
   "outputs": [
    {
     "name": "stdout",
     "output_type": "stream",
     "text": [
      "Number of neighbors  5\n",
      "Leaf size  30\n",
      "La moyenne est  0.7752666666666668\n",
      "Leaf size  90\n",
      "La moyenne est  0.7752666666666668\n",
      "Leaf size  120\n",
      "La moyenne est  0.7752666666666668\n",
      "Number of neighbors  6\n",
      "Leaf size  30\n",
      "La moyenne est  0.7689333333333332\n",
      "Leaf size  90\n",
      "La moyenne est  0.7689333333333332\n",
      "Leaf size  120\n",
      "La moyenne est  0.7689333333333332\n",
      "Number of neighbors  7\n",
      "Leaf size  30\n",
      "La moyenne est  0.7693333333333333\n",
      "Leaf size  90\n",
      "La moyenne est  0.7693333333333333\n",
      "Leaf size  120\n",
      "La moyenne est  0.7693333333333333\n",
      "Number of neighbors  8\n",
      "Leaf size  30\n",
      "La moyenne est  0.7696\n",
      "Leaf size  90\n",
      "La moyenne est  0.7696\n",
      "Leaf size  120\n",
      "La moyenne est  0.7696\n",
      "Number of neighbors  9\n",
      "Leaf size  30\n",
      "La moyenne est  0.7725333333333333\n",
      "Leaf size  90\n",
      "La moyenne est  0.7725333333333333\n",
      "Leaf size  120\n",
      "La moyenne est  0.7725333333333333\n",
      "Number of neighbors  10\n",
      "Leaf size  30\n",
      "La moyenne est  0.7700000000000001\n",
      "Leaf size  90\n",
      "La moyenne est  0.7700000000000001\n",
      "Leaf size  120\n",
      "La moyenne est  0.7700000000000001\n"
     ]
    }
   ],
   "source": [
    "n_neighbors = [5,6,7,8,9,10]\n",
    "leaf_size = [30, 90, 120]\n",
    "for n in n_neighbors:\n",
    "    print(\"Number of neighbors \", n)\n",
    "    for leaf in leaf_size:\n",
    "        print(\"Leaf size \", leaf)\n",
    "        clf = KNeighborsClassifier(n_neighbors=n, weights='uniform', leaf_size=leaf, p=1)\n",
    "        scores = cross_val_score(clf,dataset.train['hog'],dataset.train['labels'])\n",
    "        mean = np.mean(scores)\n",
    "        print(\"La moyenne est \", mean)"
   ]
  },
  {
   "cell_type": "code",
   "execution_count": 50,
   "metadata": {},
   "outputs": [
    {
     "name": "stdout",
     "output_type": "stream",
     "text": [
      "Number of neighbors  5\n",
      "Power  1\n",
      "La moyenne est  0.7752666666666668\n",
      "Power  2\n",
      "La moyenne est  0.7097333333333333\n",
      "Number of neighbors  10\n",
      "Power  1\n",
      "La moyenne est  0.7700000000000001\n",
      "Power  2\n",
      "La moyenne est  0.6994\n",
      "Number of neighbors  15\n",
      "Power  1\n",
      "La moyenne est  0.7683333333333333\n",
      "Power  2\n",
      "La moyenne est  0.7009333333333334\n",
      "Number of neighbors  20\n",
      "Power  1\n",
      "La moyenne est  0.7664666666666666\n",
      "Power  2\n",
      "La moyenne est  0.6909333333333334\n"
     ]
    }
   ],
   "source": [
    "n_neighbors = [5,10,15,20]\n",
    "power = [1,2]\n",
    "for n in n_neighbors:\n",
    "    print(\"Number of neighbors \", n)\n",
    "    for p in power:\n",
    "        print(\"Power \", p)\n",
    "        clf = KNeighborsClassifier(n_neighbors=n, weights='uniform', p=p)\n",
    "        scores = cross_val_score(clf,dataset.train['hog'],dataset.train['labels'])\n",
    "        mean = np.mean(scores)\n",
    "        print(\"La moyenne est \", mean)"
   ]
  },
  {
   "cell_type": "code",
   "execution_count": 51,
   "metadata": {},
   "outputs": [
    {
     "name": "stdout",
     "output_type": "stream",
     "text": [
      "Number of neighbors  5\n",
      "Power  1\n",
      "La moyenne est  0.7699333333333334\n",
      "Power  2\n",
      "La moyenne est  0.7029333333333333\n",
      "Number of neighbors  10\n",
      "Power  1\n",
      "La moyenne est  0.7721333333333333\n",
      "Power  2\n",
      "La moyenne est  0.7022666666666667\n",
      "Number of neighbors  15\n",
      "Power  1\n",
      "La moyenne est  0.7691333333333333\n",
      "Power  2\n",
      "La moyenne est  0.7001999999999999\n",
      "Number of neighbors  20\n",
      "Power  1\n",
      "La moyenne est  0.7676666666666667\n",
      "Power  2\n",
      "La moyenne est  0.6939333333333333\n"
     ]
    }
   ],
   "source": [
    "n_neighbors = [5,10,15,20]\n",
    "power = [1,2]\n",
    "for n in n_neighbors:\n",
    "    print(\"Number of neighbors \", n)\n",
    "    for p in power:\n",
    "        print(\"Power \", p)\n",
    "        clf = KNeighborsClassifier(n_neighbors=n, weights='distance', p=p)\n",
    "        scores = cross_val_score(clf,dataset.train['hog'],dataset.train['labels'])\n",
    "        mean = np.mean(scores)\n",
    "        print(\"La moyenne est \", mean)"
   ]
  },
  {
   "cell_type": "code",
   "execution_count": 53,
   "metadata": {},
   "outputs": [
    {
     "name": "stdout",
     "output_type": "stream",
     "text": [
      "                                   1       2       3       4       5       6  \\\n",
      "Power 1 and uniform weights   0.7456  0.7438  0.7695  0.7636  0.7753  0.7689   \n",
      "Power 2 and uniform weights   0.6878  0.6869  0.7061     NaN  0.7097     NaN   \n",
      "Power 1 and distance weights  0.7456  0.7456  0.7635     NaN  0.7699     NaN   \n",
      "Power 2 and distance weights  0.6878  0.6878  0.6988     NaN  0.7029     NaN   \n",
      "\n",
      "                                   7       8       9      10      15      20  \n",
      "Power 1 and uniform weights   0.7693  0.7696  0.7725  0.7700  0.7683  0.7664  \n",
      "Power 2 and uniform weights      NaN     NaN     NaN  0.6994  0.7009  0.6909  \n",
      "Power 1 and distance weights     NaN     NaN     NaN  0.7721  0.7691  0.7676  \n",
      "Power 2 and distance weights     NaN     NaN     NaN  0.7023  0.7002  0.6939  \n"
     ]
    },
    {
     "data": {
      "image/png": "[encoded data removed]",
      "text/plain": [
       "<Figure size 432x288 with 2 Axes>"
      ]
     },
     "metadata": {
      "needs_background": "light"
     },
     "output_type": "display_data"
    }
   ],
   "source": [
    "import pandas as pd\n",
    "import matplotlib.pyplot as plt\n",
    "\n",
    "def create_table(column_names, row_names, matrix):\n",
    "    df = pd.DataFrame(matrix, columns=column_names, index=row_names)\n",
    "    return df\n",
    "\n",
    "# Exemple d'utilisation\n",
    "columns = ['1', '2', '3', '4', '5', '6', '7', '8', '9', '10', '15', '20']\n",
    "rows = ['Power 1 and uniform weights', 'Power 2 and uniform weights', 'Power 1 and distance weights', 'Power 2 and distance weights']\n",
    "data = [[0.7456, 0.7438, 0.7695, 0.7636, 0.7753, 0.7689, 0.7693, 0.7696, 0.7725, 0.7700, 0.7683, 0.7664],\n",
    "        [0.6878, 0.6869, 0.7061, None, 0.7097, None, None, None, None, 0.6994, 0.7009, 0.6909],\n",
    "        [0.7456, 0.7456, 0.7635, None, 0.7699, None, None, None, None, 0.7721, 0.7691, 0.7676],\n",
    "        [0.6878, 0.6878, 0.6988, None, 0.7029, None, None, None, None, 0.7023, 0.7002, 0.6939]]\n",
    "\n",
    "tableau = create_table(columns, rows, data)\n",
    "\n",
    "# Affichage du tableau\n",
    "print(tableau)\n",
    "\n",
    "# Création de l'image à partir du tableau\n",
    "plt.imshow(tableau.values, cmap='plasma', interpolation='nearest')\n",
    "plt.colorbar()\n",
    "plt.xticks(range(len(columns)), columns)\n",
    "plt.yticks(range(len(rows)), rows)\n",
    "plt.show()"
   ]
  },
  {
   "cell_type": "code",
   "execution_count": 95,
   "metadata": {},
   "outputs": [
    {
     "data": {
      "text/plain": [
       "KNeighborsClassifier(p=1)"
      ]
     },
     "execution_count": 95,
     "metadata": {},
     "output_type": "execute_result"
    }
   ],
   "source": [
    "clf = KNeighborsClassifier(n_neighbors=5,p=1,weights='uniform')\n",
    "clf.fit( dataset.train['hog'], dataset.train['labels'] )"
   ]
  },
  {
   "cell_type": "code",
   "execution_count": 96,
   "metadata": {},
   "outputs": [
    {
     "name": "stdout",
     "output_type": "stream",
     "text": [
      "Descriptive score 0.8526\n",
      "[[4074  709  217]\n",
      " [ 229 4421  350]\n",
      " [  61  645 4294]]\n"
     ]
    }
   ],
   "source": [
    "pred = clf.predict(dataset.train['hog'])\n",
    "score = accuracy_score(dataset.train['labels'], pred)\n",
    "print(\"Descriptive score\", score)\n",
    "cm = confusion_matrix(dataset.train['labels'], pred)\n",
    "print(cm)"
   ]
  },
  {
   "cell_type": "code",
   "execution_count": 97,
   "metadata": {},
   "outputs": [
    {
     "name": "stdout",
     "output_type": "stream",
     "text": [
      "Descriptive score 0.7796666666666666\n",
      "[[730 218  52]\n",
      " [ 69 835  96]\n",
      " [ 18 208 774]]\n"
     ]
    }
   ],
   "source": [
    "pred = clf.predict(dataset.test['hog'])\n",
    "score = accuracy_score(dataset.test['labels'], pred)\n",
    "print(\"Descriptive score\", score)\n",
    "cm = confusion_matrix(dataset.test['labels'], pred)\n",
    "print(cm)"
   ]
  },
  {
   "cell_type": "markdown",
   "metadata": {},
   "source": [
    "## 2. Decision Trees\n",
    "\n",
    "[Decision Trees](http://scikit-learn.org/stable/modules/tree.html#tree) classify the data by splitting the feature space according to simple, single-feature rules. Scikit-learn uses the [CART](https://en.wikipedia.org/wiki/Predictive_analytics#Classification_and_regression_trees_.28CART.29) algorithm for [its implementation](http://scikit-learn.org/stable/modules/generated/sklearn.tree.DecisionTreeClassifier.html) of the classifier. \n",
    "\n",
    "* **Create a simple Decision Tree classifier** using scikit-learn and train it on the HoG training set.\n",
    "* Use cross-validation to find the best hyper-paramters for this method."
   ]
  },
  {
   "cell_type": "code",
   "execution_count": 5,
   "metadata": {},
   "outputs": [
    {
     "data": {
      "text/plain": [
       "DecisionTreeClassifier()"
      ]
     },
     "execution_count": 5,
     "metadata": {},
     "output_type": "execute_result"
    }
   ],
   "source": [
    "from sklearn import tree\n",
    "\n",
    "clf = tree.DecisionTreeClassifier()\n",
    "clf.fit( dataset.train['hog'], dataset.train['labels'] )"
   ]
  },
  {
   "cell_type": "code",
   "execution_count": 21,
   "metadata": {},
   "outputs": [
    {
     "name": "stdout",
     "output_type": "stream",
     "text": [
      "Descriptive score 1.0\n",
      "[[5000    0    0]\n",
      " [   0 5000    0]\n",
      " [   0    0 5000]]\n"
     ]
    }
   ],
   "source": [
    "pred = clf.predict(dataset.train['hog'])\n",
    "score = accuracy_score(dataset.train['labels'], pred)\n",
    "print(\"Descriptive score\", score)\n",
    "cm = confusion_matrix(dataset.train['labels'], pred)\n",
    "print(cm)"
   ]
  },
  {
   "cell_type": "code",
   "execution_count": 22,
   "metadata": {},
   "outputs": [
    {
     "name": "stdout",
     "output_type": "stream",
     "text": [
      "Predictive score 0.5696666666666667\n",
      "[[598 231 171]\n",
      " [208 531 261]\n",
      " [156 264 580]]\n"
     ]
    }
   ],
   "source": [
    "pred = clf.predict(dataset.test['hog'])\n",
    "score = accuracy_score(dataset.test['labels'], pred)\n",
    "print(\"Predictive score\", score)\n",
    "cm = confusion_matrix(dataset.test['labels'], pred)\n",
    "print(cm)"
   ]
  },
  {
   "cell_type": "code",
   "execution_count": 28,
   "metadata": {},
   "outputs": [],
   "source": [
    "splitter = [\"random\", \"best\"]\n",
    "criterion = [\"gini\", \"entropy\"]\n",
    "min_samples_split = [0.5, 2, 3, 4]"
   ]
  },
  {
   "cell_type": "code",
   "execution_count": 29,
   "metadata": {},
   "outputs": [
    {
     "name": "stdout",
     "output_type": "stream",
     "text": [
      "Splitter  random\n",
      "Criterion  gini\n",
      "Min samples split  0.5\n",
      "La moyenne est  0.4886666666666667\n",
      "Min samples split  2\n",
      "La moyenne est  0.5566000000000001\n",
      "Min samples split  3\n",
      "La moyenne est  0.5565333333333333\n",
      "Min samples split  4\n",
      "La moyenne est  0.5501333333333334\n",
      "Criterion  entropy\n",
      "Min samples split  0.5\n",
      "La moyenne est  0.4698666666666667\n",
      "Min samples split  2\n",
      "La moyenne est  0.5572666666666666\n",
      "Min samples split  3\n",
      "La moyenne est  0.5610666666666666\n",
      "Min samples split  4\n",
      "La moyenne est  0.5574\n",
      "Splitter  best\n",
      "Criterion  gini\n",
      "Min samples split  0.5\n",
      "La moyenne est  0.5302\n",
      "Min samples split  2\n",
      "La moyenne est  0.5754666666666666\n",
      "Min samples split  3\n",
      "La moyenne est  0.5788666666666668\n",
      "Min samples split  4\n",
      "La moyenne est  0.5763999999999999\n",
      "Criterion  entropy\n",
      "Min samples split  0.5\n",
      "La moyenne est  0.5006\n",
      "Min samples split  2\n",
      "La moyenne est  0.5704666666666667\n",
      "Min samples split  3\n",
      "La moyenne est  0.5731333333333333\n",
      "Min samples split  4\n",
      "La moyenne est  0.5691333333333334\n"
     ]
    }
   ],
   "source": [
    "for s in splitter:\n",
    "    print(\"Splitter \", s)\n",
    "    for c in criterion:\n",
    "        print(\"Criterion \", c)\n",
    "        for m in min_samples_split:\n",
    "            print(\"Min samples split \", m)\n",
    "            clf = tree.DecisionTreeClassifier(splitter=s, criterion=c, min_samples_split=m)\n",
    "            scores = cross_val_score(clf,dataset.train['hog'],dataset.train['labels'])\n",
    "            mean = np.mean(scores)\n",
    "            print(\"La moyenne est \", mean)"
   ]
  },
  {
   "cell_type": "code",
   "execution_count": 30,
   "metadata": {},
   "outputs": [],
   "source": [
    "max_features=[\"sqrt\", \"log2\"]\n",
    "min_samples_split = [0.8, 2, 3, 4, 5]"
   ]
  },
  {
   "cell_type": "code",
   "execution_count": 31,
   "metadata": {},
   "outputs": [
    {
     "name": "stdout",
     "output_type": "stream",
     "text": [
      "Max features  sqrt\n",
      "Criterion  gini\n",
      "Min samples split  0.8\n",
      "La moyenne est  0.4468\n",
      "Min samples split  2\n",
      "La moyenne est  0.5424666666666667\n",
      "Min samples split  3\n",
      "La moyenne est  0.5406\n",
      "Min samples split  4\n",
      "La moyenne est  0.5468\n",
      "Min samples split  5\n",
      "La moyenne est  0.5486666666666667\n",
      "Criterion  entropy\n",
      "Min samples split  0.8\n",
      "La moyenne est  0.4267333333333333\n",
      "Min samples split  2\n",
      "La moyenne est  0.5506\n",
      "Min samples split  3\n",
      "La moyenne est  0.5436666666666667\n",
      "Min samples split  4\n",
      "La moyenne est  0.5445333333333333\n",
      "Min samples split  5\n",
      "La moyenne est  0.5526\n",
      "Max features  log2\n",
      "Criterion  gini\n",
      "Min samples split  0.8\n",
      "La moyenne est  0.43946666666666667\n",
      "Min samples split  2\n",
      "La moyenne est  0.5344\n",
      "Min samples split  3\n",
      "La moyenne est  0.5254\n",
      "Min samples split  4\n",
      "La moyenne est  0.5275333333333333\n",
      "Min samples split  5\n",
      "La moyenne est  0.5346666666666667\n",
      "Criterion  entropy\n",
      "Min samples split  0.8\n",
      "La moyenne est  0.43406666666666666\n",
      "Min samples split  2\n",
      "La moyenne est  0.5360666666666666\n",
      "Min samples split  3\n",
      "La moyenne est  0.5358666666666667\n",
      "Min samples split  4\n",
      "La moyenne est  0.5324\n",
      "Min samples split  5\n",
      "La moyenne est  0.5346\n"
     ]
    }
   ],
   "source": [
    "for f in max_features:\n",
    "    print(\"Max features \", f)\n",
    "    for c in criterion:\n",
    "        print(\"Criterion \", c)\n",
    "        for m in min_samples_split:\n",
    "            print(\"Min samples split \", m)\n",
    "            clf = tree.DecisionTreeClassifier(splitter=\"best\", criterion=c, min_samples_split=m, max_features=f)\n",
    "            scores = cross_val_score(clf,dataset.train['hog'],dataset.train['labels'])\n",
    "            mean = np.mean(scores)\n",
    "            print(\"La moyenne est \", mean)"
   ]
  },
  {
   "cell_type": "code",
   "execution_count": 34,
   "metadata": {},
   "outputs": [],
   "source": [
    "min_samples_split = [2, 4, 5, 7, 9, 10]"
   ]
  },
  {
   "cell_type": "code",
   "execution_count": 57,
   "metadata": {},
   "outputs": [
    {
     "name": "stdout",
     "output_type": "stream",
     "text": [
      "Max features  sqrt\n",
      "Criterion  gini\n",
      "Min samples split  10\n",
      "La moyenne est  0.5362\n",
      "Min samples split  15\n",
      "La moyenne est  0.5497333333333333\n",
      "Min samples split  20\n",
      "La moyenne est  0.5511999999999999\n",
      "Criterion  entropy\n",
      "Min samples split  10\n",
      "La moyenne est  0.5406666666666666\n",
      "Min samples split  15\n",
      "La moyenne est  0.5520666666666667\n",
      "Min samples split  20\n",
      "La moyenne est  0.5566000000000001\n",
      "Max features  log2\n",
      "Criterion  gini\n",
      "Min samples split  10\n",
      "La moyenne est  0.5391333333333334\n",
      "Min samples split  15\n",
      "La moyenne est  0.5461333333333334\n",
      "Min samples split  20\n",
      "La moyenne est  0.5456666666666667\n",
      "Criterion  entropy\n",
      "Min samples split  10\n",
      "La moyenne est  0.5384666666666666\n",
      "Min samples split  15\n",
      "La moyenne est  0.5443333333333333\n",
      "Min samples split  20\n",
      "La moyenne est  0.5510666666666666\n"
     ]
    }
   ],
   "source": [
    "for f in max_features:\n",
    "    print(\"Max features \", f)\n",
    "    for c in criterion:\n",
    "        print(\"Criterion \", c)\n",
    "        for m in min_samples_split:\n",
    "            print(\"Min samples split \", m)\n",
    "            clf = tree.DecisionTreeClassifier(splitter=\"best\", criterion=c, min_samples_split=m, max_features=f)\n",
    "            scores = cross_val_score(clf,dataset.train['hog'],dataset.train['labels'])\n",
    "            mean = np.mean(scores)\n",
    "            print(\"La moyenne est \", mean)"
   ]
  },
  {
   "cell_type": "code",
   "execution_count": 68,
   "metadata": {},
   "outputs": [],
   "source": [
    "min_samples_split = [45, 50, 60]"
   ]
  },
  {
   "cell_type": "code",
   "execution_count": 69,
   "metadata": {},
   "outputs": [
    {
     "name": "stdout",
     "output_type": "stream",
     "text": [
      "Min samples split  45\n",
      "Criterion  gini\n",
      "La moyenne est  0.5843333333333333\n",
      "Criterion  entropy\n",
      "La moyenne est  0.5884\n",
      "Min samples split  50\n",
      "Criterion  gini\n",
      "La moyenne est  0.5864\n",
      "Criterion  entropy\n",
      "La moyenne est  0.5874666666666666\n",
      "Min samples split  60\n",
      "Criterion  gini\n",
      "La moyenne est  0.5874\n",
      "Criterion  entropy\n",
      "La moyenne est  0.5909333333333333\n"
     ]
    }
   ],
   "source": [
    "for m in min_samples_split:\n",
    "    print(\"Min samples split \", m)\n",
    "    for c in criterion:\n",
    "        print(\"Criterion \", c)\n",
    "        clf = tree.DecisionTreeClassifier(splitter=\"best\", criterion=c, min_samples_split=m)\n",
    "        scores = cross_val_score(clf,dataset.train['hog'],dataset.train['labels'])\n",
    "        mean = np.mean(scores)\n",
    "        print(\"La moyenne est \", mean)"
   ]
  },
  {
   "cell_type": "code",
   "execution_count": 70,
   "metadata": {},
   "outputs": [
    {
     "name": "stdout",
     "output_type": "stream",
     "text": [
      "                   0.5     0.8       2       3       4       5      10  \\\n",
      "Gini & sqrt        NaN  0.4468  0.5425  0.5406  0.5468  0.5487  0.5362   \n",
      "Gini & log2        NaN  0.4395  0.5344  0.5254  0.5275  0.5347  0.5391   \n",
      "Gini & None     0.5302     NaN  0.5755  0.5789  0.5764  0.5752  0.5790   \n",
      "Entropy & sqrt     NaN  0.4267  0.5506  0.5437  0.5445  0.5526  0.5407   \n",
      "Entropy & log2     NaN  0.4341  0.5361  0.5359  0.5324  0.5346  0.5385   \n",
      "Entropy & None  0.5006     NaN  0.5705  0.5731  0.5691     NaN  0.5721   \n",
      "\n",
      "                    15      20      25      30      35      40      45  \\\n",
      "Gini & sqrt     0.5497  0.5512     NaN     NaN     NaN     NaN     NaN   \n",
      "Gini & log2     0.5461  0.5457     NaN     NaN     NaN     NaN     NaN   \n",
      "Gini & None     0.5769  0.5779  0.5806  0.5804  0.5845  0.5843  0.5843   \n",
      "Entropy & sqrt  0.5521  0.5566     NaN     NaN     NaN     NaN     NaN   \n",
      "Entropy & log2  0.5443  0.5511     NaN     NaN     NaN     NaN     NaN   \n",
      "Entropy & None  0.5688  0.5733  0.5788  0.5796  0.5844  0.5873  0.5884   \n",
      "\n",
      "                    50      60  \n",
      "Gini & sqrt        NaN     NaN  \n",
      "Gini & log2        NaN     NaN  \n",
      "Gini & None     0.5864  0.5874  \n",
      "Entropy & sqrt     NaN     NaN  \n",
      "Entropy & log2     NaN     NaN  \n",
      "Entropy & None  0.5875  0.5909  \n"
     ]
    },
    {
     "data": {
      "image/png": "[encoded data removed]",
      "text/plain": [
       "<Figure size 432x288 with 2 Axes>"
      ]
     },
     "metadata": {
      "needs_background": "light"
     },
     "output_type": "display_data"
    }
   ],
   "source": [
    "import pandas as pd\n",
    "import matplotlib.pyplot as plt\n",
    "\n",
    "def create_table(column_names, row_names, matrix):\n",
    "    df = pd.DataFrame(matrix, columns=column_names, index=row_names)\n",
    "    return df\n",
    "\n",
    "# Exemple d'utilisation\n",
    "columns = ['0.5', '0.8', '2', '3', '4', '5', '10', '15', '20', '25', '30', '35', '40', '45', '50', '60']\n",
    "rows = ['Gini & sqrt', 'Gini & log2', 'Gini & None', 'Entropy & sqrt', 'Entropy & log2', 'Entropy & None']\n",
    "data = [[None, 0.4468, 0.5425, 0.5406, 0.5468, 0.5487, 0.5362, 0.5497, 0.5512, None, None, None, None, None, None, None],\n",
    "        [None, 0.4395, 0.5344, 0.5254, 0.5275, 0.5347, 0.5391, 0.5461, 0.5457, None, None, None, None, None, None, None],\n",
    "        [0.5302, None, 0.5755, 0.5789, 0.5764, 0.5752, 0.579, 0.5769, 0.5779, 0.5806, 0.5804, 0.5845, 0.5843, 0.5843, 0.5864, 0.5874],\n",
    "        [None, 0.4267, 0.5506, 0.5437, 0.5445, 0.5526, 0.5407, 0.5521, 0.5566, None, None, None, None, None, None, None],\n",
    "        [None, 0.4341, 0.5361, 0.5359, 0.5324, 0.5346, 0.5385, 0.5443, 0.5511, None, None, None, None, None, None, None],\n",
    "        [0.5006, None, 0.5705, 0.5731, 0.5691, None, 0.5721, 0.5688, 0.5733, 0.5788, 0.5796, 0.5844, 0.5873, 0.5884, 0.5875, 0.5909]]\n",
    "\n",
    "tableau = create_table(columns, rows, data)\n",
    "\n",
    "# Affichage du tableau\n",
    "print(tableau)\n",
    "\n",
    "# Création de l'image à partir du tableau\n",
    "plt.imshow(tableau.values, cmap='plasma', interpolation='nearest')\n",
    "plt.colorbar()\n",
    "plt.xticks(range(len(columns)), columns)\n",
    "plt.yticks(range(len(rows)), rows)\n",
    "plt.show()"
   ]
  },
  {
   "cell_type": "code",
   "execution_count": 84,
   "metadata": {},
   "outputs": [],
   "source": [
    "min_samples_split = [90, 100, 120, 140, 160, 170, 180, 190, 200, 220, 300]"
   ]
  },
  {
   "cell_type": "code",
   "execution_count": 85,
   "metadata": {
    "scrolled": true
   },
   "outputs": [
    {
     "name": "stdout",
     "output_type": "stream",
     "text": [
      "Criterion  gini\n",
      "Min samples split  90\n",
      "La moyenne est  0.5904\n",
      "Min samples split  100\n",
      "La moyenne est  0.5897333333333333\n",
      "Min samples split  120\n",
      "La moyenne est  0.5896666666666667\n",
      "Min samples split  140\n",
      "La moyenne est  0.5892666666666666\n",
      "Min samples split  160\n",
      "La moyenne est  0.5927333333333333\n",
      "Min samples split  170\n",
      "La moyenne est  0.5919333333333333\n",
      "Min samples split  180\n",
      "La moyenne est  0.5920666666666666\n",
      "Min samples split  190\n",
      "La moyenne est  0.5926\n",
      "Min samples split  200\n",
      "La moyenne est  0.5926\n",
      "Min samples split  220\n",
      "La moyenne est  0.5923333333333334\n",
      "Min samples split  300\n",
      "La moyenne est  0.587\n",
      "Criterion  entropy\n",
      "Min samples split  90\n",
      "La moyenne est  0.5921333333333333\n",
      "Min samples split  100\n",
      "La moyenne est  0.5942666666666667\n",
      "Min samples split  120\n",
      "La moyenne est  0.5948666666666667\n",
      "Min samples split  140\n",
      "La moyenne est  0.5945333333333334\n",
      "Min samples split  160\n",
      "La moyenne est  0.5944666666666667\n",
      "Min samples split  170\n",
      "La moyenne est  0.5944\n",
      "Min samples split  180\n",
      "La moyenne est  0.5949333333333333\n",
      "Min samples split  190\n",
      "La moyenne est  0.5939333333333334\n",
      "Min samples split  200\n",
      "La moyenne est  0.5942666666666667\n",
      "Min samples split  220\n",
      "La moyenne est  0.5944666666666667\n",
      "Min samples split  300\n",
      "La moyenne est  0.5919333333333332\n"
     ]
    }
   ],
   "source": [
    "final_list = []\n",
    "for c in criterion:\n",
    "    list_c = []\n",
    "    print(\"Criterion \", c)\n",
    "    for m in min_samples_split:\n",
    "        print(\"Min samples split \", m)\n",
    "        clf = tree.DecisionTreeClassifier(splitter=\"best\", criterion=c, min_samples_split=m)\n",
    "        scores = cross_val_score(clf,dataset.train['hog'],dataset.train['labels'])\n",
    "        mean = np.mean(scores)\n",
    "        list_c.append(mean)\n",
    "        print(\"La moyenne est \", mean)\n",
    "    final_list.append(list_c)"
   ]
  },
  {
   "cell_type": "code",
   "execution_count": 86,
   "metadata": {},
   "outputs": [
    {
     "name": "stdout",
     "output_type": "stream",
     "text": [
      "                      90       100       120       140       160       170  \\\n",
      "Gini & None     0.590400  0.589733  0.589667  0.589267  0.592733  0.591933   \n",
      "Entropy & None  0.592133  0.594267  0.594867  0.594533  0.594467  0.594400   \n",
      "\n",
      "                     180       190       200       220       300  \n",
      "Gini & None     0.592067  0.592600  0.592600  0.592333  0.587000  \n",
      "Entropy & None  0.594933  0.593933  0.594267  0.594467  0.591933  \n"
     ]
    },
    {
     "data": {
      "image/png": "[encoded data removed]",
      "text/plain": [
       "<Figure size 432x288 with 2 Axes>"
      ]
     },
     "metadata": {
      "needs_background": "light"
     },
     "output_type": "display_data"
    }
   ],
   "source": [
    "import pandas as pd\n",
    "import matplotlib.pyplot as plt\n",
    "\n",
    "def create_table(column_names, row_names, matrix):\n",
    "    df = pd.DataFrame(matrix, columns=column_names, index=row_names)\n",
    "    return df\n",
    "\n",
    "# Exemple d'utilisation\n",
    "columns = ['90', '100', '120', '140', '160', '170', '180', '190', '200', '220', '300']\n",
    "rows = ['Gini & None','Entropy & None']\n",
    "data = final_list\n",
    "\n",
    "tableau = create_table(columns, rows, data)\n",
    "\n",
    "# Affichage du tableau\n",
    "print(tableau)\n",
    "\n",
    "# Création de l'image à partir du tableau\n",
    "plt.imshow(tableau.values, cmap='plasma', interpolation='nearest')\n",
    "plt.colorbar()\n",
    "plt.xticks(range(len(columns)), columns)\n",
    "plt.yticks(range(len(rows)), rows)\n",
    "plt.show()"
   ]
  },
  {
   "cell_type": "code",
   "execution_count": 87,
   "metadata": {},
   "outputs": [
    {
     "data": {
      "text/plain": [
       "DecisionTreeClassifier(criterion='entropy', min_samples_split=180)"
      ]
     },
     "execution_count": 87,
     "metadata": {},
     "output_type": "execute_result"
    }
   ],
   "source": [
    "clf = tree.DecisionTreeClassifier(splitter=\"best\", criterion=\"entropy\", min_samples_split=180)\n",
    "clf.fit( dataset.train['hog'], dataset.train['labels'] )"
   ]
  },
  {
   "cell_type": "code",
   "execution_count": 88,
   "metadata": {
    "scrolled": false
   },
   "outputs": [
    {
     "data": {
      "text/plain": [
       "[Text(155.63870689655172, 210.645, 'X[16] <= 0.002\\nentropy = 1.585\\nsamples = 15000\\nvalue = [5000, 5000, 5000]'),\n",
       " Text(83.98862068965516, 197.055, 'X[168] <= 0.011\\nentropy = 1.479\\nsamples = 6495\\nvalue = [3369, 1650, 1476]'),\n",
       " Text(43.87034482758621, 183.465, 'X[224] <= 0.002\\nentropy = 1.572\\nsamples = 4280\\nvalue = [1688, 1348, 1244]'),\n",
       " Text(23.666896551724136, 169.875, 'X[190] <= 0.004\\nentropy = 1.363\\nsamples = 1420\\nvalue = [859, 270, 291]'),\n",
       " Text(15.008275862068965, 156.285, 'X[36] <= 0.002\\nentropy = 1.212\\nsamples = 1063\\nvalue = [719, 222, 122]'),\n",
       " Text(9.235862068965517, 142.695, 'X[111] <= 0.001\\nentropy = 1.005\\nsamples = 758\\nvalue = [577, 126, 55]'),\n",
       " Text(4.617931034482758, 129.10500000000002, 'X[181] <= 0.001\\nentropy = 0.603\\nsamples = 317\\nvalue = [281, 27, 9]'),\n",
       " Text(2.308965517241379, 115.515, 'entropy = 0.884\\nsamples = 121\\nvalue = [95, 22, 4]'),\n",
       " Text(6.926896551724138, 115.515, 'X[27] <= 0.001\\nentropy = 0.342\\nsamples = 196\\nvalue = [186, 5, 5]'),\n",
       " Text(4.617931034482758, 101.925, 'entropy = 0.104\\nsamples = 147\\nvalue = [145, 2, 0]'),\n",
       " Text(9.235862068965517, 101.925, 'entropy = 0.798\\nsamples = 49\\nvalue = [41, 3, 5]'),\n",
       " Text(13.853793103448275, 129.10500000000002, 'X[103] <= 0.002\\nentropy = 1.21\\nsamples = 441\\nvalue = [296, 99, 46]'),\n",
       " Text(11.544827586206896, 115.515, 'entropy = 1.306\\nsamples = 94\\nvalue = [41, 46, 7]'),\n",
       " Text(16.162758620689655, 115.515, 'X[225] <= 0.001\\nentropy = 1.095\\nsamples = 347\\nvalue = [255, 53, 39]'),\n",
       " Text(13.853793103448275, 101.925, 'X[5] <= 0.003\\nentropy = 0.863\\nsamples = 254\\nvalue = [208, 25, 21]'),\n",
       " Text(11.544827586206896, 88.33500000000001, 'X[94] <= 0.005\\nentropy = 0.664\\nsamples = 208\\nvalue = [181, 20, 7]'),\n",
       " Text(9.235862068965517, 74.745, 'entropy = 0.427\\nsamples = 149\\nvalue = [136, 13, 0]'),\n",
       " Text(13.853793103448275, 74.745, 'entropy = 1.028\\nsamples = 59\\nvalue = [45, 7, 7]'),\n",
       " Text(16.162758620689655, 88.33500000000001, 'entropy = 1.322\\nsamples = 46\\nvalue = [27, 5, 14]'),\n",
       " Text(18.471724137931034, 101.925, 'entropy = 1.478\\nsamples = 93\\nvalue = [47, 28, 18]'),\n",
       " Text(20.780689655172413, 142.695, 'X[66] <= 0.002\\nentropy = 1.519\\nsamples = 305\\nvalue = [142, 96, 67]'),\n",
       " Text(18.471724137931034, 129.10500000000002, 'entropy = 1.262\\nsamples = 166\\nvalue = [92, 63, 11]'),\n",
       " Text(23.089655172413792, 129.10500000000002, 'entropy = 1.552\\nsamples = 139\\nvalue = [50, 33, 56]'),\n",
       " Text(32.32551724137931, 156.285, 'X[144] <= 0.005\\nentropy = 1.43\\nsamples = 357\\nvalue = [140, 48, 169]'),\n",
       " Text(30.01655172413793, 142.695, 'X[180] <= 0.006\\nentropy = 1.479\\nsamples = 210\\nvalue = [108, 44, 58]'),\n",
       " Text(27.70758620689655, 129.10500000000002, 'entropy = 1.545\\nsamples = 173\\nvalue = [74, 41, 58]'),\n",
       " Text(32.32551724137931, 129.10500000000002, 'entropy = 0.406\\nsamples = 37\\nvalue = [34, 3, 0]'),\n",
       " Text(34.63448275862069, 142.695, 'entropy = 0.926\\nsamples = 147\\nvalue = [32, 4, 111]'),\n",
       " Text(64.07379310344827, 169.875, 'X[66] <= 0.002\\nentropy = 1.577\\nsamples = 2860\\nvalue = [829, 1078, 953]'),\n",
       " Text(49.642758620689655, 156.285, 'X[71] <= 0.001\\nentropy = 1.524\\nsamples = 1621\\nvalue = [558, 719, 344]'),\n",
       " Text(41.561379310344826, 142.695, 'X[82] <= 0.003\\nentropy = 1.294\\nsamples = 665\\nvalue = [190, 405, 70]'),\n",
       " Text(36.94344827586207, 129.10500000000002, 'X[108] <= 0.009\\nentropy = 1.347\\nsamples = 320\\nvalue = [140, 151, 29]'),\n",
       " Text(34.63448275862069, 115.515, 'X[137] <= 0.005\\nentropy = 1.376\\nsamples = 247\\nvalue = [129, 90, 28]'),\n",
       " Text(32.32551724137931, 101.925, 'X[70] <= 0.001\\nentropy = 1.439\\nsamples = 197\\nvalue = [85, 85, 27]'),\n",
       " Text(30.01655172413793, 88.33500000000001, 'entropy = 1.25\\nsamples = 147\\nvalue = [72, 67, 8]'),\n",
       " Text(34.63448275862069, 88.33500000000001, 'entropy = 1.566\\nsamples = 50\\nvalue = [13, 18, 19]'),\n",
       " Text(36.94344827586207, 101.925, 'entropy = 0.607\\nsamples = 50\\nvalue = [44, 5, 1]'),\n",
       " Text(39.25241379310344, 115.515, 'entropy = 0.713\\nsamples = 73\\nvalue = [11, 61, 1]'),\n",
       " Text(46.179310344827584, 129.10500000000002, 'X[190] <= 0.009\\nentropy = 1.094\\nsamples = 345\\nvalue = [50, 254, 41]'),\n",
       " Text(43.87034482758621, 115.515, 'X[208] <= 0.007\\nentropy = 0.987\\nsamples = 305\\nvalue = [47, 235, 23]'),\n",
       " Text(41.561379310344826, 101.925, 'entropy = 1.329\\nsamples = 133\\nvalue = [34, 81, 18]'),\n",
       " Text(46.179310344827584, 101.925, 'entropy = 0.573\\nsamples = 172\\nvalue = [13, 154, 5]'),\n",
       " Text(48.48827586206896, 115.515, 'entropy = 1.309\\nsamples = 40\\nvalue = [3, 19, 18]'),\n",
       " Text(57.72413793103448, 142.695, 'X[182] <= 0.008\\nentropy = 1.574\\nsamples = 956\\nvalue = [368, 314, 274]'),\n",
       " Text(55.4151724137931, 129.10500000000002, 'X[74] <= 0.008\\nentropy = 1.584\\nsamples = 846\\nvalue = [282, 297, 267]'),\n",
       " Text(53.106206896551726, 115.515, 'X[2] <= 0.002\\nentropy = 1.577\\nsamples = 746\\nvalue = [214, 277, 255]'),\n",
       " Text(50.79724137931034, 101.925, 'X[128] <= 0.011\\nentropy = 1.566\\nsamples = 616\\nvalue = [196, 250, 170]'),\n",
       " Text(48.48827586206896, 88.33500000000001, 'X[116] <= 0.005\\nentropy = 1.545\\nsamples = 574\\nvalue = [190, 247, 137]'),\n",
       " Text(46.179310344827584, 74.745, 'X[224] <= 0.009\\nentropy = 1.527\\nsamples = 446\\nvalue = [116, 210, 120]'),\n",
       " Text(43.87034482758621, 61.155, 'X[39] <= 0.004\\nentropy = 1.581\\nsamples = 277\\nvalue = [90, 102, 85]'),\n",
       " Text(41.561379310344826, 47.565, 'entropy = 1.485\\nsamples = 114\\nvalue = [55, 38, 21]'),\n",
       " Text(46.179310344827584, 47.565, 'entropy = 1.536\\nsamples = 163\\nvalue = [35, 64, 64]'),\n",
       " Text(48.48827586206896, 61.155, 'entropy = 1.299\\nsamples = 169\\nvalue = [26, 108, 35]'),\n",
       " Text(50.79724137931034, 74.745, 'entropy = 1.361\\nsamples = 128\\nvalue = [74, 37, 17]'),\n",
       " Text(53.106206896551726, 88.33500000000001, 'entropy = 0.946\\nsamples = 42\\nvalue = [6, 3, 33]'),\n",
       " Text(55.4151724137931, 101.925, 'entropy = 1.267\\nsamples = 130\\nvalue = [18, 27, 85]'),\n",
       " Text(57.72413793103448, 115.515, 'entropy = 1.21\\nsamples = 100\\nvalue = [68, 20, 12]'),\n",
       " Text(60.03310344827586, 129.10500000000002, 'entropy = 0.947\\nsamples = 110\\nvalue = [86, 17, 7]'),\n",
       " Text(78.50482758620689, 156.285, 'X[175] <= 0.004\\nentropy = 1.501\\nsamples = 1239\\nvalue = [271, 359, 609]'),\n",
       " Text(69.26896551724138, 142.695, 'X[72] <= 0.007\\nentropy = 1.572\\nsamples = 576\\nvalue = [160, 224, 192]'),\n",
       " Text(64.65103448275862, 129.10500000000002, 'X[22] <= 0.003\\nentropy = 1.454\\nsamples = 307\\nvalue = [69, 166, 72]'),\n",
       " Text(62.34206896551724, 115.515, 'entropy = 1.533\\nsamples = 150\\nvalue = [56, 62, 32]'),\n",
       " Text(66.96, 115.515, 'entropy = 1.194\\nsamples = 157\\nvalue = [13, 104, 40]'),\n",
       " Text(73.88689655172413, 129.10500000000002, 'X[21] <= 0.004\\nentropy = 1.526\\nsamples = 269\\nvalue = [91, 58, 120]'),\n",
       " Text(71.57793103448276, 115.515, 'X[46] <= 0.001\\nentropy = 1.443\\nsamples = 207\\nvalue = [85, 29, 93]'),\n",
       " Text(69.26896551724138, 101.925, 'entropy = 1.364\\nsamples = 139\\nvalue = [76, 16, 47]'),\n",
       " Text(73.88689655172413, 101.925, 'entropy = 1.224\\nsamples = 68\\nvalue = [9, 13, 46]'),\n",
       " Text(76.19586206896551, 115.515, 'entropy = 1.361\\nsamples = 62\\nvalue = [6, 29, 27]'),\n",
       " Text(87.74068965517242, 142.695, 'X[55] <= 0.002\\nentropy = 1.32\\nsamples = 663\\nvalue = [111, 135, 417]'),\n",
       " Text(83.12275862068965, 129.10500000000002, 'X[120] <= 0.005\\nentropy = 1.521\\nsamples = 310\\nvalue = [68, 99, 143]'),\n",
       " Text(80.81379310344828, 115.515, 'entropy = 1.451\\nsamples = 139\\nvalue = [28, 75, 36]'),\n",
       " Text(85.43172413793103, 115.515, 'entropy = 1.311\\nsamples = 171\\nvalue = [40, 24, 107]'),\n",
       " Text(92.35862068965517, 129.10500000000002, 'X[128] <= 0.011\\nentropy = 0.99\\nsamples = 353\\nvalue = [43, 36, 274]'),\n",
       " Text(90.0496551724138, 115.515, 'X[149] <= 0.013\\nentropy = 1.192\\nsamples = 252\\nvalue = [42, 35, 175]'),\n",
       " Text(87.74068965517242, 101.925, 'X[138] <= 0.008\\nentropy = 1.08\\nsamples = 233\\nvalue = [30, 30, 173]'),\n",
       " Text(85.43172413793103, 88.33500000000001, 'X[116] <= 0.004\\nentropy = 0.955\\nsamples = 216\\nvalue = [19, 27, 170]'),\n",
       " Text(83.12275862068965, 74.745, 'entropy = 0.785\\nsamples = 175\\nvalue = [6, 24, 145]'),\n",
       " Text(87.74068965517242, 74.745, 'entropy = 1.237\\nsamples = 41\\nvalue = [13, 3, 25]'),\n",
       " Text(90.0496551724138, 88.33500000000001, 'entropy = 1.29\\nsamples = 17\\nvalue = [11, 3, 3]'),\n",
       " Text(92.35862068965517, 101.925, 'entropy = 1.267\\nsamples = 19\\nvalue = [12, 5, 2]'),\n",
       " Text(94.66758620689654, 115.515, 'entropy = 0.16\\nsamples = 101\\nvalue = [1, 1, 99]'),\n",
       " Text(124.10689655172413, 183.465, 'X[152] <= 0.019\\nentropy = 1.035\\nsamples = 2215\\nvalue = [1681, 302, 232]'),\n",
       " Text(114.29379310344827, 169.875, 'X[208] <= 0.004\\nentropy = 1.27\\nsamples = 1389\\nvalue = [911, 263, 215]'),\n",
       " Text(108.52137931034483, 156.285, 'X[27] <= 0.003\\nentropy = 0.978\\nsamples = 848\\nvalue = [662, 92, 94]'),\n",
       " Text(106.21241379310345, 142.695, 'X[60] <= 0.003\\nentropy = 0.824\\nsamples = 748\\nvalue = [621, 74, 53]'),\n",
       " Text(103.90344827586206, 129.10500000000002, 'X[81] <= 0.006\\nentropy = 0.697\\nsamples = 686\\nvalue = [592, 66, 28]'),\n",
       " Text(101.59448275862069, 115.515, 'X[138] <= 0.003\\nentropy = 0.536\\nsamples = 581\\nvalue = [525, 42, 14]'),\n",
       " Text(96.97655172413792, 101.925, 'X[225] <= 0.001\\nentropy = 0.784\\nsamples = 273\\nvalue = [228, 33, 12]'),\n",
       " Text(94.66758620689654, 88.33500000000001, 'X[88] <= 0.002\\nentropy = 0.544\\nsamples = 203\\nvalue = [183, 15, 5]'),\n",
       " Text(92.35862068965517, 74.745, 'entropy = 1.105\\nsamples = 38\\nvalue = [26, 10, 2]'),\n",
       " Text(96.97655172413792, 74.745, 'entropy = 0.326\\nsamples = 165\\nvalue = [157, 5, 3]'),\n",
       " Text(99.28551724137931, 88.33500000000001, 'entropy = 1.246\\nsamples = 70\\nvalue = [45, 18, 7]'),\n",
       " Text(106.21241379310345, 101.925, 'X[18] <= 0.001\\nentropy = 0.247\\nsamples = 308\\nvalue = [297, 9, 2]'),\n",
       " Text(103.90344827586206, 88.33500000000001, 'X[237] <= 0.01\\nentropy = 0.064\\nsamples = 265\\nvalue = [263, 2, 0]'),\n",
       " Text(101.59448275862069, 74.745, 'entropy = 0.0\\nsamples = 261\\nvalue = [261, 0, 0]'),\n",
       " Text(106.21241379310345, 74.745, 'entropy = 1.0\\nsamples = 4\\nvalue = [2, 2, 0]'),\n",
       " Text(108.52137931034483, 88.33500000000001, 'entropy = 0.9\\nsamples = 43\\nvalue = [34, 7, 2]'),\n",
       " Text(106.21241379310345, 115.515, 'entropy = 1.288\\nsamples = 105\\nvalue = [67, 24, 14]'),\n",
       " Text(108.52137931034483, 129.10500000000002, 'entropy = 1.422\\nsamples = 62\\nvalue = [29, 8, 25]'),\n",
       " Text(110.8303448275862, 142.695, 'entropy = 1.5\\nsamples = 100\\nvalue = [41, 18, 41]'),\n",
       " Text(120.06620689655172, 156.285, 'X[183] <= 0.006\\nentropy = 1.524\\nsamples = 541\\nvalue = [249, 171, 121]'),\n",
       " Text(115.44827586206895, 142.695, 'X[171] <= 0.007\\nentropy = 1.568\\nsamples = 305\\nvalue = [91, 124, 90]'),\n",
       " Text(113.13931034482758, 129.10500000000002, 'X[191] <= 0.003\\nentropy = 1.558\\nsamples = 202\\nvalue = [59, 57, 86]'),\n",
       " Text(110.8303448275862, 115.515, 'entropy = 1.497\\nsamples = 102\\nvalue = [36, 47, 19]'),\n",
       " Text(115.44827586206895, 115.515, 'entropy = 1.207\\nsamples = 100\\nvalue = [23, 10, 67]'),\n",
       " Text(117.75724137931034, 129.10500000000002, 'entropy = 1.11\\nsamples = 103\\nvalue = [32, 67, 4]'),\n",
       " Text(124.68413793103448, 142.695, 'X[29] <= 0.002\\nentropy = 1.236\\nsamples = 236\\nvalue = [158, 47, 31]'),\n",
       " Text(122.3751724137931, 129.10500000000002, 'X[150] <= 0.003\\nentropy = 1.03\\nsamples = 199\\nvalue = [150, 33, 16]'),\n",
       " Text(120.06620689655172, 115.515, 'entropy = 1.534\\nsamples = 48\\nvalue = [22, 14, 12]'),\n",
       " Text(124.68413793103448, 115.515, 'entropy = 0.717\\nsamples = 151\\nvalue = [128, 19, 4]'),\n",
       " Text(126.99310344827586, 129.10500000000002, 'entropy = 1.536\\nsamples = 37\\nvalue = [8, 14, 15]'),\n",
       " Text(133.92, 169.875, 'X[182] <= 0.002\\nentropy = 0.418\\nsamples = 826\\nvalue = [770, 39, 17]'),\n",
       " Text(131.6110344827586, 156.285, 'entropy = 0.838\\nsamples = 167\\nvalue = [135, 26, 6]'),\n",
       " Text(136.22896551724136, 156.285, 'X[37] <= 0.002\\nentropy = 0.262\\nsamples = 659\\nvalue = [635, 13, 11]'),\n",
       " Text(133.92, 142.695, 'X[225] <= 0.001\\nentropy = 0.172\\nsamples = 583\\nvalue = [570, 10, 3]'),\n",
       " Text(131.6110344827586, 129.10500000000002, 'X[155] <= 0.0\\nentropy = 0.071\\nsamples = 466\\nvalue = [462, 4, 0]'),\n",
       " Text(129.30206896551724, 115.515, 'entropy = 0.433\\nsamples = 45\\nvalue = [41, 4, 0]'),\n",
       " Text(133.92, 115.515, 'entropy = 0.0\\nsamples = 421\\nvalue = [421, 0, 0]'),\n",
       " Text(136.22896551724136, 129.10500000000002, 'entropy = 0.462\\nsamples = 117\\nvalue = [108, 6, 3]'),\n",
       " Text(138.53793103448277, 142.695, 'entropy = 0.719\\nsamples = 76\\nvalue = [65, 3, 8]'),\n",
       " Text(227.28879310344826, 197.055, 'X[224] <= 0.003\\nentropy = 1.513\\nsamples = 8505\\nvalue = [1631, 3350, 3524]'),\n",
       " Text(171.15206896551723, 183.465, 'X[222] <= 0.001\\nentropy = 1.528\\nsamples = 3026\\nvalue = [922, 710, 1394]'),\n",
       " Text(157.58689655172412, 169.875, 'X[182] <= 0.007\\nentropy = 1.503\\nsamples = 1254\\nvalue = [589, 248, 417]'),\n",
       " Text(151.23724137931035, 156.285, 'X[152] <= 0.012\\nentropy = 1.532\\nsamples = 1051\\nvalue = [420, 222, 409]'),\n",
       " Text(145.4648275862069, 142.695, 'X[56] <= 0.003\\nentropy = 1.539\\nsamples = 818\\nvalue = [262, 194, 362]'),\n",
       " Text(140.84689655172414, 129.10500000000002, 'X[71] <= 0.004\\nentropy = 1.472\\nsamples = 237\\nvalue = [124, 62, 51]'),\n",
       " Text(138.53793103448277, 115.515, 'entropy = 1.464\\nsamples = 166\\nvalue = [80, 59, 27]'),\n",
       " Text(143.15586206896552, 115.515, 'entropy = 1.15\\nsamples = 71\\nvalue = [44, 3, 24]'),\n",
       " Text(150.08275862068965, 129.10500000000002, 'X[230] <= 0.001\\nentropy = 1.461\\nsamples = 581\\nvalue = [138, 132, 311]'),\n",
       " Text(147.77379310344827, 115.515, 'entropy = 1.46\\nsamples = 97\\nvalue = [52, 23, 22]'),\n",
       " Text(152.39172413793102, 115.515, 'X[144] <= 0.003\\nentropy = 1.371\\nsamples = 484\\nvalue = [86, 109, 289]'),\n",
       " Text(147.77379310344827, 101.925, 'X[32] <= 0.002\\nentropy = 1.558\\nsamples = 202\\nvalue = [57, 59, 86]'),\n",
       " Text(145.4648275862069, 88.33500000000001, 'entropy = 1.222\\nsamples = 44\\nvalue = [27, 3, 14]'),\n",
       " Text(150.08275862068965, 88.33500000000001, 'entropy = 1.502\\nsamples = 158\\nvalue = [30, 56, 72]'),\n",
       " Text(157.00965517241377, 101.925, 'X[192] <= 0.003\\nentropy = 1.121\\nsamples = 282\\nvalue = [29, 50, 203]'),\n",
       " Text(154.7006896551724, 88.33500000000001, 'X[72] <= 0.002\\nentropy = 0.895\\nsamples = 187\\nvalue = [21, 15, 151]'),\n",
       " Text(152.39172413793102, 74.745, 'entropy = 1.361\\nsamples = 10\\nvalue = [5, 4, 1]'),\n",
       " Text(157.00965517241377, 74.745, 'entropy = 0.765\\nsamples = 177\\nvalue = [16, 11, 150]'),\n",
       " Text(159.31862068965518, 88.33500000000001, 'entropy = 1.307\\nsamples = 95\\nvalue = [8, 35, 52]'),\n",
       " Text(157.00965517241377, 142.695, 'X[97] <= 0.001\\nentropy = 1.213\\nsamples = 233\\nvalue = [158, 28, 47]'),\n",
       " Text(154.7006896551724, 129.10500000000002, 'entropy = 0.709\\nsamples = 79\\nvalue = [66, 12, 1]'),\n",
       " Text(159.31862068965518, 129.10500000000002, 'entropy = 1.304\\nsamples = 154\\nvalue = [92, 16, 46]'),\n",
       " Text(163.93655172413793, 156.285, 'X[229] <= 0.004\\nentropy = 0.784\\nsamples = 203\\nvalue = [169, 26, 8]'),\n",
       " Text(161.62758620689655, 142.695, 'entropy = 0.603\\nsamples = 157\\nvalue = [140, 9, 8]'),\n",
       " Text(166.2455172413793, 142.695, 'entropy = 0.95\\nsamples = 46\\nvalue = [29, 17, 0]'),\n",
       " Text(184.71724137931034, 169.875, 'X[190] <= 0.004\\nentropy = 1.432\\nsamples = 1772\\nvalue = [333, 462, 977]'),\n",
       " Text(175.48137931034483, 156.285, 'X[175] <= 0.002\\nentropy = 1.547\\nsamples = 1065\\nvalue = [257, 353, 455]'),\n",
       " Text(170.86344827586205, 142.695, 'X[104] <= 0.018\\nentropy = 1.554\\nsamples = 394\\nvalue = [135, 162, 97]'),\n",
       " Text(168.55448275862068, 129.10500000000002, 'X[45] <= 0.003\\nentropy = 1.547\\nsamples = 354\\nvalue = [102, 157, 95]'),\n",
       " Text(166.2455172413793, 115.515, 'X[150] <= 0.007\\nentropy = 1.515\\nsamples = 252\\nvalue = [91, 111, 50]'),\n",
       " Text(163.93655172413793, 101.925, 'entropy = 1.528\\nsamples = 160\\nvalue = [41, 75, 44]'),\n",
       " Text(168.55448275862068, 101.925, 'entropy = 1.265\\nsamples = 92\\nvalue = [50, 36, 6]'),\n",
       " Text(170.86344827586205, 115.515, 'entropy = 1.385\\nsamples = 102\\nvalue = [11, 46, 45]'),\n",
       " Text(173.17241379310343, 129.10500000000002, 'entropy = 0.82\\nsamples = 40\\nvalue = [33, 5, 2]'),\n",
       " Text(180.0993103448276, 142.695, 'X[155] <= 0.012\\nentropy = 1.447\\nsamples = 671\\nvalue = [122, 191, 358]'),\n",
       " Text(177.7903448275862, 129.10500000000002, 'X[164] <= 0.012\\nentropy = 1.385\\nsamples = 595\\nvalue = [98, 151, 346]'),\n",
       " Text(175.48137931034483, 115.515, 'X[170] <= 0.01\\nentropy = 1.323\\nsamples = 545\\nvalue = [82, 124, 339]'),\n",
       " Text(173.17241379310343, 101.925, 'X[66] <= 0.004\\nentropy = 1.245\\nsamples = 501\\nvalue = [60, 111, 330]'),\n",
       " Text(170.86344827586205, 88.33500000000001, 'X[119] <= 0.005\\nentropy = 1.394\\nsamples = 327\\nvalue = [50, 92, 185]'),\n",
       " Text(168.55448275862068, 74.745, 'X[230] <= 0.001\\nentropy = 1.488\\nsamples = 197\\nvalue = [34, 76, 87]'),\n",
       " Text(166.2455172413793, 61.155, 'entropy = 1.509\\nsamples = 39\\nvalue = [19, 9, 11]'),\n",
       " Text(170.86344827586205, 61.155, 'entropy = 1.355\\nsamples = 158\\nvalue = [15, 67, 76]'),\n",
       " Text(173.17241379310343, 74.745, 'entropy = 1.051\\nsamples = 130\\nvalue = [16, 16, 98]'),\n",
       " Text(175.48137931034483, 88.33500000000001, 'entropy = 0.805\\nsamples = 174\\nvalue = [10, 19, 145]'),\n",
       " Text(177.7903448275862, 101.925, 'entropy = 1.488\\nsamples = 44\\nvalue = [22, 13, 9]'),\n",
       " Text(180.0993103448276, 115.515, 'entropy = 1.403\\nsamples = 50\\nvalue = [16, 27, 7]'),\n",
       " Text(182.40827586206896, 129.10500000000002, 'entropy = 1.433\\nsamples = 76\\nvalue = [24, 40, 12]'),\n",
       " Text(193.95310344827584, 156.285, 'X[170] <= 0.012\\nentropy = 1.085\\nsamples = 707\\nvalue = [76, 109, 522]'),\n",
       " Text(191.64413793103446, 142.695, 'X[159] <= 0.005\\nentropy = 0.972\\nsamples = 658\\nvalue = [52, 94, 512]'),\n",
       " Text(187.0262068965517, 129.10500000000002, 'X[107] <= 0.006\\nentropy = 1.302\\nsamples = 262\\nvalue = [34, 64, 164]'),\n",
       " Text(184.71724137931034, 115.515, 'entropy = 1.177\\nsamples = 173\\nvalue = [30, 22, 121]'),\n",
       " Text(189.3351724137931, 115.515, 'entropy = 1.219\\nsamples = 89\\nvalue = [4, 42, 43]'),\n",
       " Text(196.26206896551724, 129.10500000000002, 'X[9] <= 0.0\\nentropy = 0.649\\nsamples = 396\\nvalue = [18, 30, 348]'),\n",
       " Text(193.95310344827584, 115.515, 'entropy = 1.39\\nsamples = 58\\nvalue = [11, 13, 34]'),\n",
       " Text(198.57103448275862, 115.515, 'X[191] <= 0.009\\nentropy = 0.432\\nsamples = 338\\nvalue = [7, 17, 314]'),\n",
       " Text(196.26206896551724, 101.925, 'entropy = 0.706\\nsamples = 165\\nvalue = [7, 16, 142]'),\n",
       " Text(200.88, 101.925, 'entropy = 0.051\\nsamples = 173\\nvalue = [0, 1, 172]'),\n",
       " Text(196.26206896551724, 142.695, 'entropy = 1.495\\nsamples = 49\\nvalue = [24, 15, 10]'),\n",
       " Text(283.4255172413793, 183.465, 'X[128] <= 0.006\\nentropy = 1.419\\nsamples = 5479\\nvalue = [709, 2640, 2130]'),\n",
       " Text(250.52275862068964, 169.875, 'X[192] <= 0.003\\nentropy = 1.411\\nsamples = 4163\\nvalue = [587, 2211, 1365]'),\n",
       " Text(220.5062068965517, 156.285, 'X[144] <= 0.003\\nentropy = 1.502\\nsamples = 1715\\nvalue = [313, 679, 723]'),\n",
       " Text(212.4248275862069, 142.695, 'X[116] <= 0.011\\nentropy = 1.506\\nsamples = 775\\nvalue = [174, 378, 223]'),\n",
       " Text(210.1158620689655, 129.10500000000002, 'X[169] <= 0.007\\nentropy = 1.483\\nsamples = 737\\nvalue = [145, 369, 223]'),\n",
       " Text(207.80689655172412, 115.515, 'X[198] <= 0.0\\nentropy = 1.428\\nsamples = 561\\nvalue = [80, 284, 197]'),\n",
       " Text(205.49793103448275, 101.925, 'entropy = 1.361\\nsamples = 48\\nvalue = [25, 18, 5]'),\n",
       " Text(210.1158620689655, 101.925, 'X[71] <= 0.004\\nentropy = 1.367\\nsamples = 513\\nvalue = [55, 266, 192]'),\n",
       " Text(205.49793103448275, 88.33500000000001, 'X[67] <= 0.015\\nentropy = 1.243\\nsamples = 294\\nvalue = [27, 187, 80]'),\n",
       " Text(203.18896551724137, 74.745, 'X[18] <= 0.009\\nentropy = 1.218\\nsamples = 284\\nvalue = [27, 187, 70]'),\n",
       " Text(200.88, 61.155, 'X[186] <= 0.001\\nentropy = 1.167\\nsamples = 264\\nvalue = [26, 183, 55]'),\n",
       " Text(198.57103448275862, 47.565, 'entropy = 0.764\\nsamples = 119\\nvalue = [9, 101, 9]'),\n",
       " Text(203.18896551724137, 47.565, 'entropy = 1.353\\nsamples = 145\\nvalue = [17, 82, 46]'),\n",
       " Text(205.49793103448275, 61.155, 'entropy = 0.992\\nsamples = 20\\nvalue = [1, 4, 15]'),\n",
       " Text(207.80689655172412, 74.745, 'entropy = 0.0\\nsamples = 10\\nvalue = [0, 0, 10]'),\n",
       " Text(214.73379310344828, 88.33500000000001, 'X[139] <= 0.005\\nentropy = 1.405\\nsamples = 219\\nvalue = [28, 79, 112]'),\n",
       " Text(212.4248275862069, 74.745, 'X[66] <= 0.004\\nentropy = 1.331\\nsamples = 187\\nvalue = [21, 57, 109]'),\n",
       " Text(210.1158620689655, 61.155, 'entropy = 1.416\\nsamples = 134\\nvalue = [17, 53, 64]'),\n",
       " Text(214.73379310344828, 61.155, 'entropy = 0.763\\nsamples = 53\\nvalue = [4, 4, 45]'),\n",
       " Text(217.04275862068965, 74.745, 'entropy = 1.171\\nsamples = 32\\nvalue = [7, 22, 3]'),\n",
       " Text(212.4248275862069, 115.515, 'entropy = 1.445\\nsamples = 176\\nvalue = [65, 85, 26]'),\n",
       " Text(214.73379310344828, 129.10500000000002, 'entropy = 0.79\\nsamples = 38\\nvalue = [29, 9, 0]'),\n",
       " Text(228.58758620689653, 142.695, 'X[191] <= 0.006\\nentropy = 1.418\\nsamples = 940\\nvalue = [139, 301, 500]'),\n",
       " Text(223.96965517241378, 129.10500000000002, 'X[72] <= 0.003\\nentropy = 1.499\\nsamples = 691\\nvalue = [127, 255, 309]'),\n",
       " Text(221.6606896551724, 115.515, 'entropy = 1.439\\nsamples = 165\\nvalue = [40, 91, 34]'),\n",
       " Text(226.27862068965516, 115.515, 'X[0] <= 0.003\\nentropy = 1.443\\nsamples = 526\\nvalue = [87, 164, 275]'),\n",
       " Text(221.6606896551724, 101.925, 'X[247] <= 0.0\\nentropy = 1.564\\nsamples = 227\\nvalue = [66, 67, 94]'),\n",
       " Text(219.35172413793103, 88.33500000000001, 'entropy = 0.863\\nsamples = 21\\nvalue = [15, 6, 0]'),\n",
       " Text(223.96965517241378, 88.33500000000001, 'X[124] <= 0.001\\nentropy = 1.535\\nsamples = 206\\nvalue = [51, 61, 94]'),\n",
       " Text(221.6606896551724, 74.745, 'entropy = 1.545\\nsamples = 94\\nvalue = [26, 42, 26]'),\n",
       " Text(226.27862068965516, 74.745, 'entropy = 1.354\\nsamples = 112\\nvalue = [25, 19, 68]'),\n",
       " Text(230.8965517241379, 101.925, 'X[240] <= 0.003\\nentropy = 1.234\\nsamples = 299\\nvalue = [21, 97, 181]'),\n",
       " Text(228.58758620689653, 88.33500000000001, 'entropy = 1.213\\nsamples = 148\\nvalue = [17, 31, 100]'),\n",
       " Text(233.2055172413793, 88.33500000000001, 'entropy = 1.143\\nsamples = 151\\nvalue = [4, 66, 81]'),\n",
       " Text(233.2055172413793, 129.10500000000002, 'X[158] <= 0.008\\nentropy = 0.954\\nsamples = 249\\nvalue = [12, 46, 191]'),\n",
       " Text(230.8965517241379, 115.515, 'entropy = 1.292\\nsamples = 121\\nvalue = [11, 39, 71]'),\n",
       " Text(235.5144827586207, 115.515, 'entropy = 0.371\\nsamples = 128\\nvalue = [1, 7, 120]'),\n",
       " Text(280.5393103448276, 156.285, 'X[156] <= 0.012\\nentropy = 1.283\\nsamples = 2448\\nvalue = [274, 1532, 642]'),\n",
       " Text(267.84, 142.695, 'X[72] <= 0.012\\nentropy = 1.331\\nsamples = 2143\\nvalue = [256, 1269, 618]'),\n",
       " Text(253.98620689655172, 129.10500000000002, 'X[174] <= 0.004\\nentropy = 1.272\\nsamples = 1814\\nvalue = [197, 1145, 472]'),\n",
       " Text(244.7503448275862, 115.515, 'X[150] <= 0.011\\nentropy = 1.22\\nsamples = 1048\\nvalue = [134, 710, 204]'),\n",
       " Text(242.44137931034481, 101.925, 'X[55] <= 0.002\\nentropy = 1.196\\nsamples = 932\\nvalue = [98, 634, 200]'),\n",
       " Text(237.82344827586206, 88.33500000000001, 'X[103] <= 0.013\\nentropy = 1.028\\nsamples = 526\\nvalue = [51, 400, 75]'),\n",
       " Text(235.5144827586207, 74.745, 'X[23] <= 0.001\\nentropy = 0.959\\nsamples = 495\\nvalue = [37, 387, 71]'),\n",
       " Text(233.2055172413793, 61.155, 'entropy = 0.612\\nsamples = 153\\nvalue = [14, 135, 4]'),\n",
       " Text(237.82344827586206, 61.155, 'X[169] <= 0.01\\nentropy = 1.047\\nsamples = 342\\nvalue = [23, 252, 67]'),\n",
       " Text(235.5144827586207, 47.565, 'X[190] <= 0.006\\nentropy = 1.017\\nsamples = 302\\nvalue = [14, 221, 67]'),\n",
       " Text(233.2055172413793, 33.974999999999994, 'X[244] <= 0.0\\nentropy = 0.95\\nsamples = 257\\nvalue = [14, 199, 44]'),\n",
       " Text(230.8965517241379, 20.38499999999999, 'entropy = 1.441\\nsamples = 42\\nvalue = [6, 20, 16]'),\n",
       " Text(235.5144827586207, 20.38499999999999, 'X[98] <= 0.001\\nentropy = 0.78\\nsamples = 215\\nvalue = [8, 179, 28]'),\n",
       " Text(233.2055172413793, 6.7949999999999875, 'entropy = 1.28\\nsamples = 62\\nvalue = [7, 39, 16]'),\n",
       " Text(237.82344827586206, 6.7949999999999875, 'entropy = 0.453\\nsamples = 153\\nvalue = [1, 140, 12]'),\n",
       " Text(237.82344827586206, 33.974999999999994, 'entropy = 1.0\\nsamples = 45\\nvalue = [0, 22, 23]'),\n",
       " Text(240.13241379310344, 47.565, 'entropy = 0.769\\nsamples = 40\\nvalue = [9, 31, 0]'),\n",
       " Text(240.13241379310344, 74.745, 'entropy = 1.425\\nsamples = 31\\nvalue = [14, 13, 4]'),\n",
       " Text(247.05931034482757, 88.33500000000001, 'X[129] <= 0.003\\nentropy = 1.342\\nsamples = 406\\nvalue = [47, 234, 125]'),\n",
       " Text(244.7503448275862, 74.745, 'X[29] <= 0.0\\nentropy = 1.291\\nsamples = 276\\nvalue = [40, 177, 59]'),\n",
       " Text(242.44137931034481, 61.155, 'entropy = 0.996\\nsamples = 28\\nvalue = [15, 13, 0]'),\n",
       " Text(247.05931034482757, 61.155, 'X[116] <= 0.0\\nentropy = 1.221\\nsamples = 248\\nvalue = [25, 164, 59]'),\n",
       " Text(244.7503448275862, 47.565, 'entropy = 0.977\\nsamples = 34\\nvalue = [0, 14, 20]'),\n",
       " Text(249.36827586206897, 47.565, 'X[51] <= 0.009\\nentropy = 1.169\\nsamples = 214\\nvalue = [25, 150, 39]'),\n",
       " Text(247.05931034482757, 33.974999999999994, 'X[163] <= 0.002\\nentropy = 1.088\\nsamples = 202\\nvalue = [17, 147, 38]'),\n",
       " Text(244.7503448275862, 20.38499999999999, 'entropy = 1.154\\nsamples = 74\\nvalue = [3, 45, 26]'),\n",
       " Text(249.36827586206897, 20.38499999999999, 'entropy = 0.93\\nsamples = 128\\nvalue = [14, 102, 12]'),\n",
       " Text(251.67724137931035, 33.974999999999994, 'entropy = 1.189\\nsamples = 12\\nvalue = [8, 3, 1]'),\n",
       " Text(249.36827586206897, 74.745, 'entropy = 1.245\\nsamples = 130\\nvalue = [7, 57, 66]'),\n",
       " Text(247.05931034482757, 101.925, 'entropy = 1.091\\nsamples = 116\\nvalue = [36, 76, 4]'),\n",
       " Text(263.2220689655172, 115.515, 'X[240] <= 0.004\\nentropy = 1.29\\nsamples = 766\\nvalue = [63, 435, 268]'),\n",
       " Text(258.6041379310345, 101.925, 'X[24] <= 0.006\\nentropy = 1.405\\nsamples = 295\\nvalue = [35, 124, 136]'),\n",
       " Text(256.29517241379307, 88.33500000000001, 'X[212] <= 0.001\\nentropy = 1.434\\nsamples = 215\\nvalue = [30, 104, 81]'),\n",
       " Text(253.98620689655172, 74.745, 'entropy = 1.351\\nsamples = 38\\nvalue = [9, 6, 23]'),\n",
       " Text(258.6041379310345, 74.745, 'entropy = 1.365\\nsamples = 177\\nvalue = [21, 98, 58]'),\n",
       " Text(260.9131034482759, 88.33500000000001, 'entropy = 1.122\\nsamples = 80\\nvalue = [5, 20, 55]'),\n",
       " Text(267.84, 101.925, 'X[48] <= 0.0\\nentropy = 1.152\\nsamples = 471\\nvalue = [28, 311, 132]'),\n",
       " Text(265.5310344827586, 88.33500000000001, 'entropy = 1.131\\nsamples = 25\\nvalue = [4, 3, 18]'),\n",
       " Text(270.1489655172414, 88.33500000000001, 'X[5] <= 0.005\\nentropy = 1.099\\nsamples = 446\\nvalue = [24, 308, 114]'),\n",
       " Text(267.84, 74.745, 'X[66] <= 0.007\\nentropy = 1.06\\nsamples = 383\\nvalue = [24, 278, 81]'),\n",
       " Text(265.5310344827586, 61.155, 'X[115] <= 0.009\\nentropy = 0.983\\nsamples = 347\\nvalue = [21, 265, 61]'),\n",
       " Text(263.2220689655172, 47.565, 'X[92] <= 0.003\\nentropy = 0.948\\nsamples = 320\\nvalue = [14, 245, 61]'),\n",
       " Text(260.9131034482759, 33.974999999999994, 'entropy = 1.12\\nsamples = 160\\nvalue = [14, 114, 32]'),\n",
       " Text(265.5310344827586, 33.974999999999994, 'entropy = 0.683\\nsamples = 160\\nvalue = [0, 131, 29]'),\n",
       " Text(267.84, 47.565, 'entropy = 0.826\\nsamples = 27\\nvalue = [7, 20, 0]'),\n",
       " Text(270.1489655172414, 61.155, 'entropy = 1.301\\nsamples = 36\\nvalue = [3, 13, 20]'),\n",
       " Text(272.4579310344827, 74.745, 'entropy = 0.998\\nsamples = 63\\nvalue = [0, 30, 33]'),\n",
       " Text(281.6937931034483, 129.10500000000002, 'X[89] <= 0.015\\nentropy = 1.495\\nsamples = 329\\nvalue = [59, 124, 146]'),\n",
       " Text(279.3848275862069, 115.515, 'X[153] <= 0.008\\nentropy = 1.445\\nsamples = 313\\nvalue = [45, 122, 146]'),\n",
       " Text(277.07586206896553, 101.925, 'X[76] <= 0.003\\nentropy = 1.333\\nsamples = 249\\nvalue = [23, 94, 132]'),\n",
       " Text(274.76689655172413, 88.33500000000001, 'entropy = 1.238\\nsamples = 153\\nvalue = [15, 39, 99]'),\n",
       " Text(279.3848275862069, 88.33500000000001, 'entropy = 1.289\\nsamples = 96\\nvalue = [8, 55, 33]'),\n",
       " Text(281.6937931034483, 101.925, 'entropy = 1.531\\nsamples = 64\\nvalue = [22, 28, 14]'),\n",
       " Text(284.00275862068963, 115.515, 'entropy = 0.544\\nsamples = 16\\nvalue = [14, 2, 0]'),\n",
       " Text(293.23862068965514, 142.695, 'X[130] <= 0.007\\nentropy = 0.714\\nsamples = 305\\nvalue = [18, 263, 24]'),\n",
       " Text(290.9296551724138, 129.10500000000002, 'X[146] <= 0.002\\nentropy = 0.619\\nsamples = 275\\nvalue = [18, 244, 13]'),\n",
       " Text(288.6206896551724, 115.515, 'entropy = 0.189\\nsamples = 122\\nvalue = [2, 119, 1]'),\n",
       " Text(293.23862068965514, 115.515, 'entropy = 0.867\\nsamples = 153\\nvalue = [16, 125, 12]'),\n",
       " Text(295.54758620689654, 129.10500000000002, 'entropy = 0.948\\nsamples = 30\\nvalue = [0, 19, 11]'),\n",
       " Text(316.32827586206895, 169.875, 'X[208] <= 0.006\\nentropy = 1.3\\nsamples = 1316\\nvalue = [122, 429, 765]'),\n",
       " Text(307.09241379310345, 156.285, 'X[129] <= 0.004\\nentropy = 1.154\\nsamples = 628\\nvalue = [71, 113, 444]'),\n",
       " Text(302.4744827586207, 142.695, 'X[66] <= 0.005\\nentropy = 1.481\\nsamples = 208\\nvalue = [40, 64, 104]'),\n",
       " Text(300.1655172413793, 129.10500000000002, 'entropy = 1.566\\nsamples = 145\\nvalue = [40, 46, 59]'),\n",
       " Text(304.78344827586204, 129.10500000000002, 'entropy = 0.863\\nsamples = 63\\nvalue = [0, 18, 45]'),\n",
       " Text(311.7103448275862, 142.695, 'X[36] <= 0.002\\nentropy = 0.886\\nsamples = 420\\nvalue = [31, 49, 340]'),\n",
       " Text(309.4013793103448, 129.10500000000002, 'entropy = 1.242\\nsamples = 164\\nvalue = [25, 29, 110]'),\n",
       " Text(314.01931034482755, 129.10500000000002, 'X[118] <= 0.009\\nentropy = 0.553\\nsamples = 256\\nvalue = [6, 20, 230]'),\n",
       " Text(311.7103448275862, 115.515, 'X[81] <= 0.002\\nentropy = 0.435\\nsamples = 242\\nvalue = [1, 19, 222]'),\n",
       " Text(309.4013793103448, 101.925, 'entropy = 0.08\\nsamples = 101\\nvalue = [1, 0, 100]'),\n",
       " Text(314.01931034482755, 101.925, 'entropy = 0.57\\nsamples = 141\\nvalue = [0, 19, 122]'),\n",
       " Text(316.32827586206895, 115.515, 'entropy = 1.264\\nsamples = 14\\nvalue = [5, 1, 8]'),\n",
       " Text(325.56413793103445, 156.285, 'X[70] <= 0.002\\nentropy = 1.307\\nsamples = 688\\nvalue = [51, 316, 321]'),\n",
       " Text(320.9462068965517, 142.695, 'X[66] <= 0.0\\nentropy = 1.253\\nsamples = 382\\nvalue = [28, 226, 128]'),\n",
       " Text(318.63724137931035, 129.10500000000002, 'entropy = 1.567\\nsamples = 32\\nvalue = [13, 10, 9]'),\n",
       " Text(323.2551724137931, 129.10500000000002, 'X[56] <= 0.006\\nentropy = 1.154\\nsamples = 350\\nvalue = [15, 216, 119]'),\n",
       " Text(320.9462068965517, 115.515, 'X[19] <= 0.01\\nentropy = 1.119\\nsamples = 256\\nvalue = [15, 175, 66]'),\n",
       " Text(318.63724137931035, 101.925, 'X[192] <= 0.002\\nentropy = 1.179\\nsamples = 224\\nvalue = [14, 144, 66]'),\n",
       " Text(316.32827586206895, 88.33500000000001, 'entropy = 1.159\\nsamples = 15\\nvalue = [4, 1, 10]'),\n",
       " Text(320.9462068965517, 88.33500000000001, 'X[148] <= 0.006\\nentropy = 1.094\\nsamples = 209\\nvalue = [10, 143, 56]'),\n",
       " Text(318.63724137931035, 74.745, 'entropy = 1.095\\nsamples = 133\\nvalue = [3, 80, 50]'),\n",
       " Text(323.2551724137931, 74.745, 'entropy = 0.83\\nsamples = 76\\nvalue = [7, 63, 6]'),\n",
       " Text(323.2551724137931, 101.925, 'entropy = 0.201\\nsamples = 32\\nvalue = [1, 31, 0]'),\n",
       " Text(325.56413793103445, 115.515, 'entropy = 0.988\\nsamples = 94\\nvalue = [0, 41, 53]'),\n",
       " Text(330.1820689655172, 142.695, 'X[38] <= 0.002\\nentropy = 1.219\\nsamples = 306\\nvalue = [23, 90, 193]'),\n",
       " Text(327.87310344827586, 129.10500000000002, 'entropy = 1.436\\nsamples = 150\\nvalue = [22, 53, 75]'),\n",
       " Text(332.4910344827586, 129.10500000000002, 'entropy = 0.844\\nsamples = 156\\nvalue = [1, 37, 118]')]"
      ]
     },
     "execution_count": 88,
     "metadata": {},
     "output_type": "execute_result"
    },
    {
     "data": {
      "image/png": "[encoded data removed]",
      "text/plain": [
       "<Figure size 432x288 with 1 Axes>"
      ]
     },
     "metadata": {
      "needs_background": "light"
     },
     "output_type": "display_data"
    }
   ],
   "source": [
    "tree.plot_tree(clf)"
   ]
  },
  {
   "cell_type": "code",
   "execution_count": 93,
   "metadata": {},
   "outputs": [
    {
     "name": "stdout",
     "output_type": "stream",
     "text": [
      "Descriptive score 0.6783333333333333\n",
      "[[3632  781  587]\n",
      " [ 857 2999 1144]\n",
      " [ 562  894 3544]]\n"
     ]
    }
   ],
   "source": [
    "pred = clf.predict(dataset.train['hog'])\n",
    "score = accuracy_score(dataset.train['labels'], pred)\n",
    "print(\"Descriptive score\", score)\n",
    "cm = confusion_matrix(dataset.train['labels'], pred)\n",
    "print(cm)"
   ]
  },
  {
   "cell_type": "code",
   "execution_count": 94,
   "metadata": {},
   "outputs": [
    {
     "name": "stdout",
     "output_type": "stream",
     "text": [
      "Predictive score 0.5976666666666667\n",
      "[[663 206 131]\n",
      " [196 528 276]\n",
      " [168 230 602]]\n"
     ]
    }
   ],
   "source": [
    "pred = clf.predict(dataset.test['hog'])\n",
    "score = accuracy_score(dataset.test['labels'], pred)\n",
    "print(\"Predictive score\", score)\n",
    "cm = confusion_matrix(dataset.test['labels'], pred)\n",
    "print(cm)"
   ]
  },
  {
   "cell_type": "markdown",
   "metadata": {},
   "source": [
    "## 3. Random Forests\n",
    "\n",
    "[Random Forest](http://scikit-learn.org/stable/modules/generated/sklearn.ensemble.RandomForestClassifier.html) classifiers use multiple decision trees trained on \"weaker\" datasets (less data and/or less features), averaging the results so as to reduce over-fitting.\n",
    "\n",
    "* Use scikit-learn to **create a Random Forest classifier** on the CIFAR data. \n",
    "* Use cross-validation to find the best hyper-paramters for this method."
   ]
  },
  {
   "cell_type": "code",
   "execution_count": 6,
   "metadata": {},
   "outputs": [
    {
     "data": {
      "text/plain": [
       "RandomForestClassifier()"
      ]
     },
     "execution_count": 6,
     "metadata": {},
     "output_type": "execute_result"
    }
   ],
   "source": [
    "from sklearn import ensemble\n",
    "\n",
    "clf = ensemble.RandomForestClassifier()\n",
    "clf.fit( dataset.train['hog'], dataset.train['labels'] )"
   ]
  },
  {
   "cell_type": "code",
   "execution_count": 38,
   "metadata": {},
   "outputs": [
    {
     "name": "stdout",
     "output_type": "stream",
     "text": [
      "Descriptive score 1.0\n",
      "[[5000    0    0]\n",
      " [   0 5000    0]\n",
      " [   0    0 5000]]\n"
     ]
    }
   ],
   "source": [
    "pred = clf.predict(dataset.train['hog'])\n",
    "score = accuracy_score(dataset.train['labels'], pred)\n",
    "print(\"Descriptive score\", score)\n",
    "cm = confusion_matrix(dataset.train['labels'], pred)\n",
    "print(cm)"
   ]
  },
  {
   "cell_type": "code",
   "execution_count": 39,
   "metadata": {},
   "outputs": [
    {
     "name": "stdout",
     "output_type": "stream",
     "text": [
      "Predictive score 0.772\n",
      "[[787 158  55]\n",
      " [121 745 134]\n",
      " [ 55 161 784]]\n"
     ]
    }
   ],
   "source": [
    "pred = clf.predict(dataset.test['hog'])\n",
    "score = accuracy_score(dataset.test['labels'], pred)\n",
    "print(\"Predictive score\", score)\n",
    "cm = confusion_matrix(dataset.test['labels'], pred)\n",
    "print(cm)"
   ]
  },
  {
   "cell_type": "code",
   "execution_count": 47,
   "metadata": {},
   "outputs": [],
   "source": [
    "n_estimators = [50, 100, 150, 200]\n",
    "bootstrap = [True, False]\n",
    "class_weight = [\"balanced\", \"balanced_subsample\", None]"
   ]
  },
  {
   "cell_type": "code",
   "execution_count": 42,
   "metadata": {},
   "outputs": [
    {
     "name": "stdout",
     "output_type": "stream",
     "text": [
      "Nb estimators  50\n",
      "Bootstrap\n",
      "La moyenne est  0.7462666666666666\n",
      "No bootstrap\n",
      "La moyenne est  0.7494666666666666\n",
      "Nb estimators  100\n",
      "Bootstrap\n",
      "La moyenne est  0.7558666666666667\n",
      "No bootstrap\n",
      "La moyenne est  0.7628666666666666\n",
      "Nb estimators  150\n",
      "Bootstrap\n",
      "La moyenne est  0.7661333333333333\n",
      "No bootstrap\n",
      "La moyenne est  0.7689333333333332\n",
      "Nb estimators  200\n",
      "Bootstrap\n",
      "La moyenne est  0.7668666666666667\n",
      "No bootstrap\n",
      "La moyenne est  0.7710666666666667\n"
     ]
    }
   ],
   "source": [
    "for e in n_estimators:\n",
    "    print(\"Nb estimators \", e)\n",
    "    for b in bootstrap:\n",
    "        if b :\n",
    "            print(\"Bootstrap\")\n",
    "        else:\n",
    "            print(\"No bootstrap\")\n",
    "        clf = ensemble.RandomForestClassifier(n_estimators=e, bootstrap=b)\n",
    "        scores = cross_val_score(clf,dataset.train['hog'],dataset.train['labels'])\n",
    "        mean = np.mean(scores)\n",
    "        print(\"La moyenne est \", mean)            "
   ]
  },
  {
   "cell_type": "code",
   "execution_count": 43,
   "metadata": {},
   "outputs": [],
   "source": [
    "n_estimators = [250, 300, 350]"
   ]
  },
  {
   "cell_type": "code",
   "execution_count": 44,
   "metadata": {},
   "outputs": [
    {
     "name": "stdout",
     "output_type": "stream",
     "text": [
      "Nb estimators  250\n",
      "La moyenne est  0.7719333333333334\n",
      "Nb estimators  300\n",
      "La moyenne est  0.7715333333333334\n",
      "Nb estimators  350\n",
      "La moyenne est  0.7734666666666666\n"
     ]
    }
   ],
   "source": [
    "for e in n_estimators:\n",
    "    print(\"Nb estimators \", e)\n",
    "    clf = ensemble.RandomForestClassifier(n_estimators=e, bootstrap=False)\n",
    "    scores = cross_val_score(clf,dataset.train['hog'],dataset.train['labels'])\n",
    "    mean = np.mean(scores)\n",
    "    print(\"La moyenne est \", mean)    "
   ]
  },
  {
   "cell_type": "code",
   "execution_count": 45,
   "metadata": {},
   "outputs": [],
   "source": [
    "n_estimators = [350, 400, 450]"
   ]
  },
  {
   "cell_type": "code",
   "execution_count": 46,
   "metadata": {},
   "outputs": [
    {
     "name": "stdout",
     "output_type": "stream",
     "text": [
      "Nb estimators  350\n",
      "La moyenne est  0.7761333333333333\n",
      "Nb estimators  400\n",
      "La moyenne est  0.7734666666666666\n",
      "Nb estimators  450\n",
      "La moyenne est  0.7769333333333334\n"
     ]
    }
   ],
   "source": [
    "for e in n_estimators:\n",
    "    print(\"Nb estimators \", e)\n",
    "    clf = ensemble.RandomForestClassifier(n_estimators=e, bootstrap=False)\n",
    "    scores = cross_val_score(clf,dataset.train['hog'],dataset.train['labels'])\n",
    "    mean = np.mean(scores)\n",
    "    print(\"La moyenne est \", mean)    "
   ]
  },
  {
   "cell_type": "code",
   "execution_count": 48,
   "metadata": {},
   "outputs": [],
   "source": [
    "n_estimators = [350, 400, 450, 500, 550]"
   ]
  },
  {
   "cell_type": "code",
   "execution_count": 49,
   "metadata": {},
   "outputs": [
    {
     "name": "stdout",
     "output_type": "stream",
     "text": [
      "Nb estimators  350\n",
      "Class weight  balanced\n",
      "La moyenne est  0.7738666666666666\n",
      "Class weight  balanced_subsample\n",
      "La moyenne est  0.7742000000000001\n",
      "Class weight  None\n",
      "La moyenne est  0.7723333333333333\n",
      "Nb estimators  400\n",
      "Class weight  balanced\n",
      "La moyenne est  0.7733333333333333\n",
      "Class weight  balanced_subsample\n",
      "La moyenne est  0.7748666666666668\n",
      "Class weight  None\n",
      "La moyenne est  0.7734666666666667\n",
      "Nb estimators  450\n",
      "Class weight  balanced\n",
      "La moyenne est  0.7756\n",
      "Class weight  balanced_subsample\n",
      "La moyenne est  0.7748666666666667\n",
      "Class weight  None\n",
      "La moyenne est  0.7755333333333334\n",
      "Nb estimators  500\n",
      "Class weight  balanced\n",
      "La moyenne est  0.7754\n",
      "Class weight  balanced_subsample\n",
      "La moyenne est  0.7750666666666668\n",
      "Class weight  None\n",
      "La moyenne est  0.7754666666666666\n",
      "Nb estimators  550\n",
      "Class weight  balanced\n",
      "La moyenne est  0.7771333333333332\n",
      "Class weight  balanced_subsample\n",
      "La moyenne est  0.7746666666666666\n",
      "Class weight  None\n",
      "La moyenne est  0.7757333333333334\n"
     ]
    }
   ],
   "source": [
    "for e in n_estimators:\n",
    "    print(\"Nb estimators \", e)\n",
    "    for w in class_weight:\n",
    "        print(\"Class weight \", w)\n",
    "        clf = ensemble.RandomForestClassifier(n_estimators=e, bootstrap=False, class_weight=w)\n",
    "        scores = cross_val_score(clf,dataset.train['hog'],dataset.train['labels'])\n",
    "        mean = np.mean(scores)\n",
    "        print(\"La moyenne est \", mean)    "
   ]
  },
  {
   "cell_type": "code",
   "execution_count": 99,
   "metadata": {},
   "outputs": [],
   "source": [
    "n_estimators = [100, 200, 300, 400, 500, 600]\n",
    "criterion = [\"gini\", \"entropy\"]\n",
    "min_samples_split = [2, 10, 50, 100, 200, 300]"
   ]
  },
  {
   "cell_type": "code",
   "execution_count": null,
   "metadata": {},
   "outputs": [
    {
     "name": "stdout",
     "output_type": "stream",
     "text": [
      "Criterion  gini\n",
      "Min sample  2\n",
      "Nb estimators  100\n",
      "La moyenne est  0.7632\n",
      "Nb estimators  200\n",
      "La moyenne est  0.7721333333333333\n",
      "Nb estimators  300\n",
      "La moyenne est  0.7719333333333334\n",
      "Nb estimators  400\n",
      "La moyenne est  0.7758\n",
      "Nb estimators  500\n",
      "La moyenne est  0.7737333333333334\n",
      "Nb estimators  600\n",
      "La moyenne est  0.7744\n",
      "Min sample  10\n",
      "Nb estimators  100\n",
      "La moyenne est  0.7646666666666666\n",
      "Nb estimators  200\n",
      "La moyenne est  0.7691333333333334\n",
      "Nb estimators  300\n",
      "La moyenne est  0.7722\n",
      "Nb estimators  400\n",
      "La moyenne est  0.7728666666666666\n",
      "Nb estimators  500\n",
      "La moyenne est  0.7746666666666666\n",
      "Nb estimators  600\n",
      "La moyenne est  0.7749333333333333\n",
      "Min sample  50\n",
      "Nb estimators  100\n",
      "La moyenne est  0.7573333333333334\n",
      "Nb estimators  200\n",
      "La moyenne est  0.7577333333333334\n",
      "Nb estimators  300\n",
      "La moyenne est  0.7621333333333333\n",
      "Nb estimators  400\n",
      "La moyenne est  0.7626\n",
      "Nb estimators  500\n",
      "La moyenne est  0.7646\n",
      "Nb estimators  600\n",
      "La moyenne est  0.7636666666666667\n",
      "Min sample  100\n",
      "Nb estimators  100\n",
      "La moyenne est  0.7502666666666667\n",
      "Nb estimators  200\n",
      "La moyenne est  0.7534000000000001\n",
      "Nb estimators  300\n",
      "La moyenne est  0.7541333333333333\n",
      "Nb estimators  400\n",
      "La moyenne est  0.7536666666666666\n",
      "Nb estimators  500\n",
      "La moyenne est  0.7534666666666667\n",
      "Nb estimators  600\n",
      "La moyenne est  0.7525999999999999\n",
      "Min sample  200\n",
      "Nb estimators  100\n",
      "La moyenne est  0.7379333333333333\n",
      "Nb estimators  200\n",
      "La moyenne est  0.7409333333333332\n",
      "Nb estimators  300\n",
      "La moyenne est  0.7426666666666667\n",
      "Nb estimators  400\n",
      "La moyenne est  0.7414\n",
      "Nb estimators  500\n",
      "La moyenne est  0.7418666666666666\n",
      "Nb estimators  600\n",
      "La moyenne est  0.7426666666666667\n",
      "Min sample  300\n",
      "Nb estimators  100\n",
      "La moyenne est  0.7313333333333334\n",
      "Nb estimators  200\n"
     ]
    }
   ],
   "source": [
    "final_list = []\n",
    "for c in criterion:\n",
    "    list_crit = []\n",
    "    print(\"Criterion \", c)\n",
    "    for min_s in min_samples_split:\n",
    "        print(\"Min sample \", min_s)\n",
    "        list_crit.append([])\n",
    "        for n in n_estimators:\n",
    "            print(\"Nb estimators \", n)\n",
    "            clf = ensemble.RandomForestClassifier(n_estimators=n, bootstrap=False, criterion=c, min_samples_split=min_s)\n",
    "            scores = cross_val_score(clf,dataset.train['hog'],dataset.train['labels'])\n",
    "            mean = np.mean(scores)\n",
    "            list_crit[-1].append(mean)\n",
    "            print(\"La moyenne est \", mean)\n",
    "    final_list.append(list_crit)"
   ]
  },
  {
   "cell_type": "code",
   "execution_count": 1,
   "metadata": {},
   "outputs": [],
   "source": [
    "n_estimators = [100, 200, 300, 400, 500, 600]\n",
    "criterion = [\"entropy\"]\n",
    "min_samples_split = [2, 10, 50, 100, 200, 300]"
   ]
  },
  {
   "cell_type": "code",
   "execution_count": null,
   "metadata": {},
   "outputs": [
    {
     "name": "stdout",
     "output_type": "stream",
     "text": [
      "Criterion  entropy\n",
      "Min sample  2\n",
      "Nb estimators  100\n"
     ]
    }
   ],
   "source": [
    "final_list2 = []\n",
    "for c in criterion:\n",
    "    list_crit = []\n",
    "    print(\"Criterion \", c)\n",
    "    for min_s in min_samples_split:\n",
    "        print(\"Min sample \", min_s)\n",
    "        list_crit.append([])\n",
    "        for n in n_estimators:\n",
    "            print(\"Nb estimators \", n)\n",
    "            clf = ensemble.RandomForestClassifier(n_estimators=n, bootstrap=False, criterion=c, min_samples_split=min_s)\n",
    "            scores = cross_val_score(clf,dataset.train['hog'],dataset.train['labels'])\n",
    "            mean = np.mean(scores)\n",
    "            list_crit[-1].append(mean)\n",
    "            print(\"La moyenne est \", mean)\n",
    "    final_list2.append(list_crit)"
   ]
  }
 ],
 "metadata": {
  "kernelspec": {
   "display_name": "Python 3",
   "language": "python",
   "name": "python3"
  },
  "language_info": {
   "codemirror_mode": {
    "name": "ipython",
    "version": 3
   },
   "file_extension": ".py",
   "mimetype": "text/x-python",
   "name": "python",
   "nbconvert_exporter": "python",
   "pygments_lexer": "ipython3",
   "version": "3.8.8"
  }
 },
 "nbformat": 4,
 "nbformat_minor": 2
}
